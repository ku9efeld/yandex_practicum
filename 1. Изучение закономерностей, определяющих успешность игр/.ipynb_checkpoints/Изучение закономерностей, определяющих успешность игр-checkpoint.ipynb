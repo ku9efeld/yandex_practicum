{
 "cells": [
  {
   "cell_type": "markdown",
   "id": "2828ec45",
   "metadata": {},
   "source": [
    "# Сборный проект 1"
   ]
  },
  {
   "cell_type": "markdown",
   "id": "1b9a2719",
   "metadata": {},
   "source": [
    "Из открытых источников доступны исторические данные о продажах игр, оценки пользователей и экспертов, жанры и платформы (например, Xbox или PlayStation). Вам нужно выявить определяющие успешность игры закономерности. Это позволит сделать ставку на потенциально популярный продукт и спланировать рекламные кампании."
   ]
  },
  {
   "cell_type": "markdown",
   "id": "f781240f",
   "metadata": {},
   "source": [
    "# Знакомство с данными"
   ]
  },
  {
   "cell_type": "code",
   "execution_count": 1,
   "id": "e32fe98d",
   "metadata": {},
   "outputs": [],
   "source": [
    "import pandas as pd\n",
    "try:\n",
    "    df = pd.read_csv('datasets\\games.csv')\n",
    "except:\n",
    "    df = pd.read_csv(r'datasets\\games.csv')"
   ]
  },
  {
   "cell_type": "code",
   "execution_count": 2,
   "id": "04ed5145",
   "metadata": {},
   "outputs": [
    {
     "data": {
      "text/html": [
       "<div>\n",
       "<style scoped>\n",
       "    .dataframe tbody tr th:only-of-type {\n",
       "        vertical-align: middle;\n",
       "    }\n",
       "\n",
       "    .dataframe tbody tr th {\n",
       "        vertical-align: top;\n",
       "    }\n",
       "\n",
       "    .dataframe thead th {\n",
       "        text-align: right;\n",
       "    }\n",
       "</style>\n",
       "<table border=\"1\" class=\"dataframe\">\n",
       "  <thead>\n",
       "    <tr style=\"text-align: right;\">\n",
       "      <th></th>\n",
       "      <th>Name</th>\n",
       "      <th>Platform</th>\n",
       "      <th>Year_of_Release</th>\n",
       "      <th>Genre</th>\n",
       "      <th>NA_sales</th>\n",
       "      <th>EU_sales</th>\n",
       "      <th>JP_sales</th>\n",
       "      <th>Other_sales</th>\n",
       "      <th>Critic_Score</th>\n",
       "      <th>User_Score</th>\n",
       "      <th>Rating</th>\n",
       "    </tr>\n",
       "  </thead>\n",
       "  <tbody>\n",
       "    <tr>\n",
       "      <th>0</th>\n",
       "      <td>Wii Sports</td>\n",
       "      <td>Wii</td>\n",
       "      <td>2006.0</td>\n",
       "      <td>Sports</td>\n",
       "      <td>41.36</td>\n",
       "      <td>28.96</td>\n",
       "      <td>3.77</td>\n",
       "      <td>8.45</td>\n",
       "      <td>76.0</td>\n",
       "      <td>8</td>\n",
       "      <td>E</td>\n",
       "    </tr>\n",
       "    <tr>\n",
       "      <th>1</th>\n",
       "      <td>Super Mario Bros.</td>\n",
       "      <td>NES</td>\n",
       "      <td>1985.0</td>\n",
       "      <td>Platform</td>\n",
       "      <td>29.08</td>\n",
       "      <td>3.58</td>\n",
       "      <td>6.81</td>\n",
       "      <td>0.77</td>\n",
       "      <td>NaN</td>\n",
       "      <td>NaN</td>\n",
       "      <td>NaN</td>\n",
       "    </tr>\n",
       "    <tr>\n",
       "      <th>2</th>\n",
       "      <td>Mario Kart Wii</td>\n",
       "      <td>Wii</td>\n",
       "      <td>2008.0</td>\n",
       "      <td>Racing</td>\n",
       "      <td>15.68</td>\n",
       "      <td>12.76</td>\n",
       "      <td>3.79</td>\n",
       "      <td>3.29</td>\n",
       "      <td>82.0</td>\n",
       "      <td>8.3</td>\n",
       "      <td>E</td>\n",
       "    </tr>\n",
       "    <tr>\n",
       "      <th>3</th>\n",
       "      <td>Wii Sports Resort</td>\n",
       "      <td>Wii</td>\n",
       "      <td>2009.0</td>\n",
       "      <td>Sports</td>\n",
       "      <td>15.61</td>\n",
       "      <td>10.93</td>\n",
       "      <td>3.28</td>\n",
       "      <td>2.95</td>\n",
       "      <td>80.0</td>\n",
       "      <td>8</td>\n",
       "      <td>E</td>\n",
       "    </tr>\n",
       "    <tr>\n",
       "      <th>4</th>\n",
       "      <td>Pokemon Red/Pokemon Blue</td>\n",
       "      <td>GB</td>\n",
       "      <td>1996.0</td>\n",
       "      <td>Role-Playing</td>\n",
       "      <td>11.27</td>\n",
       "      <td>8.89</td>\n",
       "      <td>10.22</td>\n",
       "      <td>1.00</td>\n",
       "      <td>NaN</td>\n",
       "      <td>NaN</td>\n",
       "      <td>NaN</td>\n",
       "    </tr>\n",
       "    <tr>\n",
       "      <th>5</th>\n",
       "      <td>Tetris</td>\n",
       "      <td>GB</td>\n",
       "      <td>1989.0</td>\n",
       "      <td>Puzzle</td>\n",
       "      <td>23.20</td>\n",
       "      <td>2.26</td>\n",
       "      <td>4.22</td>\n",
       "      <td>0.58</td>\n",
       "      <td>NaN</td>\n",
       "      <td>NaN</td>\n",
       "      <td>NaN</td>\n",
       "    </tr>\n",
       "    <tr>\n",
       "      <th>6</th>\n",
       "      <td>New Super Mario Bros.</td>\n",
       "      <td>DS</td>\n",
       "      <td>2006.0</td>\n",
       "      <td>Platform</td>\n",
       "      <td>11.28</td>\n",
       "      <td>9.14</td>\n",
       "      <td>6.50</td>\n",
       "      <td>2.88</td>\n",
       "      <td>89.0</td>\n",
       "      <td>8.5</td>\n",
       "      <td>E</td>\n",
       "    </tr>\n",
       "    <tr>\n",
       "      <th>7</th>\n",
       "      <td>Wii Play</td>\n",
       "      <td>Wii</td>\n",
       "      <td>2006.0</td>\n",
       "      <td>Misc</td>\n",
       "      <td>13.96</td>\n",
       "      <td>9.18</td>\n",
       "      <td>2.93</td>\n",
       "      <td>2.84</td>\n",
       "      <td>58.0</td>\n",
       "      <td>6.6</td>\n",
       "      <td>E</td>\n",
       "    </tr>\n",
       "    <tr>\n",
       "      <th>8</th>\n",
       "      <td>New Super Mario Bros. Wii</td>\n",
       "      <td>Wii</td>\n",
       "      <td>2009.0</td>\n",
       "      <td>Platform</td>\n",
       "      <td>14.44</td>\n",
       "      <td>6.94</td>\n",
       "      <td>4.70</td>\n",
       "      <td>2.24</td>\n",
       "      <td>87.0</td>\n",
       "      <td>8.4</td>\n",
       "      <td>E</td>\n",
       "    </tr>\n",
       "    <tr>\n",
       "      <th>9</th>\n",
       "      <td>Duck Hunt</td>\n",
       "      <td>NES</td>\n",
       "      <td>1984.0</td>\n",
       "      <td>Shooter</td>\n",
       "      <td>26.93</td>\n",
       "      <td>0.63</td>\n",
       "      <td>0.28</td>\n",
       "      <td>0.47</td>\n",
       "      <td>NaN</td>\n",
       "      <td>NaN</td>\n",
       "      <td>NaN</td>\n",
       "    </tr>\n",
       "  </tbody>\n",
       "</table>\n",
       "</div>"
      ],
      "text/plain": [
       "                        Name Platform  Year_of_Release         Genre  \\\n",
       "0                 Wii Sports      Wii           2006.0        Sports   \n",
       "1          Super Mario Bros.      NES           1985.0      Platform   \n",
       "2             Mario Kart Wii      Wii           2008.0        Racing   \n",
       "3          Wii Sports Resort      Wii           2009.0        Sports   \n",
       "4   Pokemon Red/Pokemon Blue       GB           1996.0  Role-Playing   \n",
       "5                     Tetris       GB           1989.0        Puzzle   \n",
       "6      New Super Mario Bros.       DS           2006.0      Platform   \n",
       "7                   Wii Play      Wii           2006.0          Misc   \n",
       "8  New Super Mario Bros. Wii      Wii           2009.0      Platform   \n",
       "9                  Duck Hunt      NES           1984.0       Shooter   \n",
       "\n",
       "   NA_sales  EU_sales  JP_sales  Other_sales  Critic_Score User_Score Rating  \n",
       "0     41.36     28.96      3.77         8.45          76.0          8      E  \n",
       "1     29.08      3.58      6.81         0.77           NaN        NaN    NaN  \n",
       "2     15.68     12.76      3.79         3.29          82.0        8.3      E  \n",
       "3     15.61     10.93      3.28         2.95          80.0          8      E  \n",
       "4     11.27      8.89     10.22         1.00           NaN        NaN    NaN  \n",
       "5     23.20      2.26      4.22         0.58           NaN        NaN    NaN  \n",
       "6     11.28      9.14      6.50         2.88          89.0        8.5      E  \n",
       "7     13.96      9.18      2.93         2.84          58.0        6.6      E  \n",
       "8     14.44      6.94      4.70         2.24          87.0        8.4      E  \n",
       "9     26.93      0.63      0.28         0.47           NaN        NaN    NaN  "
      ]
     },
     "execution_count": 2,
     "metadata": {},
     "output_type": "execute_result"
    }
   ],
   "source": [
    "df.head(10)"
   ]
  },
  {
   "cell_type": "code",
   "execution_count": 3,
   "id": "0be549a2",
   "metadata": {},
   "outputs": [
    {
     "name": "stdout",
     "output_type": "stream",
     "text": [
      "<class 'pandas.core.frame.DataFrame'>\n",
      "RangeIndex: 16715 entries, 0 to 16714\n",
      "Data columns (total 11 columns):\n",
      " #   Column           Non-Null Count  Dtype  \n",
      "---  ------           --------------  -----  \n",
      " 0   Name             16713 non-null  object \n",
      " 1   Platform         16715 non-null  object \n",
      " 2   Year_of_Release  16446 non-null  float64\n",
      " 3   Genre            16713 non-null  object \n",
      " 4   NA_sales         16715 non-null  float64\n",
      " 5   EU_sales         16715 non-null  float64\n",
      " 6   JP_sales         16715 non-null  float64\n",
      " 7   Other_sales      16715 non-null  float64\n",
      " 8   Critic_Score     8137 non-null   float64\n",
      " 9   User_Score       10014 non-null  object \n",
      " 10  Rating           9949 non-null   object \n",
      "dtypes: float64(6), object(5)\n",
      "memory usage: 1.4+ MB\n"
     ]
    }
   ],
   "source": [
    "df.info()"
   ]
  },
  {
   "cell_type": "markdown",
   "id": "e9ed8165",
   "metadata": {},
   "source": [
    "### Описание данных"
   ]
  },
  {
   "cell_type": "markdown",
   "id": "68131ea6",
   "metadata": {},
   "source": [
    "Name — название игры  \n",
    "Platform — платформа  \n",
    "Year_of_Release — год выпуска  \n",
    "Genre — жанр игры  \n",
    "NA_sales — продажи в Северной Америке (миллионы проданных копий)  \n",
    "EU_sales — продажи в Европе (миллионы проданных копий)  \n",
    "JP_sales — продажи в Японии (миллионы проданных копий)  \n",
    "Other_sales — продажи в других странах (миллионы проданных копий)  \n",
    "Critic_Score — оценка критиков (максимум 100)  \n",
    "User_Score — оценка пользователей (максимум 10)  \n",
    "Rating — рейтинг от организации ESRB (англ. Entertainment Software Rating Board). Эта ассоциация определяет рейтинг компьютерных игр и присваивает им подходящую возрастную категорию"
   ]
  },
  {
   "cell_type": "markdown",
   "id": "3c23afdc",
   "metadata": {},
   "source": [
    "## 1. Подготовка данных"
   ]
  },
  {
   "cell_type": "markdown",
   "id": "083240b8",
   "metadata": {},
   "source": [
    "### 1.1 Переименование столбцов"
   ]
  },
  {
   "cell_type": "code",
   "execution_count": 4,
   "id": "60c844f4",
   "metadata": {},
   "outputs": [],
   "source": [
    "df.columns = df.columns.str.lower()"
   ]
  },
  {
   "cell_type": "markdown",
   "id": "96803bba",
   "metadata": {},
   "source": [
    "###  1.2 Приведение типов"
   ]
  },
  {
   "cell_type": "markdown",
   "id": "bffd95c1",
   "metadata": {},
   "source": [
    "year_of_release - к типу datetime, чтобы можно было работать с данными, как со временем   \n",
    "user_score - к типу float, для выполнения арифмитических операций в дальнейшем "
   ]
  },
  {
   "cell_type": "code",
   "execution_count": 5,
   "id": "3e33660a",
   "metadata": {},
   "outputs": [
    {
     "name": "stdout",
     "output_type": "stream",
     "text": [
      "<class 'pandas.core.frame.DataFrame'>\n",
      "RangeIndex: 16715 entries, 0 to 16714\n",
      "Data columns (total 11 columns):\n",
      " #   Column           Non-Null Count  Dtype         \n",
      "---  ------           --------------  -----         \n",
      " 0   name             16713 non-null  object        \n",
      " 1   platform         16715 non-null  object        \n",
      " 2   year_of_release  16446 non-null  datetime64[ns]\n",
      " 3   genre            16713 non-null  object        \n",
      " 4   na_sales         16715 non-null  float64       \n",
      " 5   eu_sales         16715 non-null  float64       \n",
      " 6   jp_sales         16715 non-null  float64       \n",
      " 7   other_sales      16715 non-null  float64       \n",
      " 8   critic_score     8137 non-null   float64       \n",
      " 9   user_score       7590 non-null   float64       \n",
      " 10  rating           9949 non-null   object        \n",
      "dtypes: datetime64[ns](1), float64(6), object(4)\n",
      "memory usage: 1.4+ MB\n"
     ]
    }
   ],
   "source": [
    "df['year_of_release'] = pd.to_datetime(df['year_of_release'],format='%Y')\n",
    "df.loc[df['user_score'] == 'tbd', 'user_score'] = float('nan') # tbd - на Nan\n",
    "df['user_score'] = df['user_score'].astype(float) \n",
    "df.info()"
   ]
  },
  {
   "cell_type": "markdown",
   "id": "39e11675",
   "metadata": {},
   "source": [
    "###  1.3 Замена дубликатов"
   ]
  },
  {
   "cell_type": "code",
   "execution_count": 6,
   "id": "312f368e",
   "metadata": {},
   "outputs": [
    {
     "data": {
      "text/plain": [
       "0"
      ]
     },
     "execution_count": 6,
     "metadata": {},
     "output_type": "execute_result"
    }
   ],
   "source": [
    "df.duplicated().sum()"
   ]
  },
  {
   "cell_type": "markdown",
   "id": "ce6244df",
   "metadata": {},
   "source": [
    "Явных дубликатов в выборке не оказалось."
   ]
  },
  {
   "cell_type": "code",
   "execution_count": 7,
   "id": "cc9bf28c",
   "metadata": {},
   "outputs": [
    {
     "name": "stdout",
     "output_type": "stream",
     "text": [
      "16713\n"
     ]
    }
   ],
   "source": [
    "len(df['name'].str.lower().unique())\n",
    "print(df.groupby('name').count()['platform'].sum())"
   ]
  },
  {
   "cell_type": "markdown",
   "id": "cb5cf461",
   "metadata": {},
   "source": [
    "По имени дубликатов не оказалось также. Что если есть совпадения по платформе и имени?"
   ]
  },
  {
   "cell_type": "code",
   "execution_count": 8,
   "id": "16dc2415",
   "metadata": {},
   "outputs": [
    {
     "data": {
      "text/html": [
       "<div>\n",
       "<style scoped>\n",
       "    .dataframe tbody tr th:only-of-type {\n",
       "        vertical-align: middle;\n",
       "    }\n",
       "\n",
       "    .dataframe tbody tr th {\n",
       "        vertical-align: top;\n",
       "    }\n",
       "\n",
       "    .dataframe thead th {\n",
       "        text-align: right;\n",
       "    }\n",
       "</style>\n",
       "<table border=\"1\" class=\"dataframe\">\n",
       "  <thead>\n",
       "    <tr style=\"text-align: right;\">\n",
       "      <th></th>\n",
       "      <th>name</th>\n",
       "      <th>platform</th>\n",
       "      <th>year_of_release</th>\n",
       "      <th>genre</th>\n",
       "      <th>na_sales</th>\n",
       "      <th>eu_sales</th>\n",
       "      <th>jp_sales</th>\n",
       "      <th>other_sales</th>\n",
       "      <th>critic_score</th>\n",
       "      <th>user_score</th>\n",
       "      <th>rating</th>\n",
       "    </tr>\n",
       "  </thead>\n",
       "  <tbody>\n",
       "    <tr>\n",
       "      <th>659</th>\n",
       "      <td>NaN</td>\n",
       "      <td>GEN</td>\n",
       "      <td>1993-01-01</td>\n",
       "      <td>NaN</td>\n",
       "      <td>1.78</td>\n",
       "      <td>0.53</td>\n",
       "      <td>0.00</td>\n",
       "      <td>0.08</td>\n",
       "      <td>NaN</td>\n",
       "      <td>NaN</td>\n",
       "      <td>NaN</td>\n",
       "    </tr>\n",
       "    <tr>\n",
       "      <th>14244</th>\n",
       "      <td>NaN</td>\n",
       "      <td>GEN</td>\n",
       "      <td>1993-01-01</td>\n",
       "      <td>NaN</td>\n",
       "      <td>0.00</td>\n",
       "      <td>0.00</td>\n",
       "      <td>0.03</td>\n",
       "      <td>0.00</td>\n",
       "      <td>NaN</td>\n",
       "      <td>NaN</td>\n",
       "      <td>NaN</td>\n",
       "    </tr>\n",
       "    <tr>\n",
       "      <th>5972</th>\n",
       "      <td>Need for Speed: Most Wanted</td>\n",
       "      <td>PC</td>\n",
       "      <td>2005-01-01</td>\n",
       "      <td>Racing</td>\n",
       "      <td>0.02</td>\n",
       "      <td>0.23</td>\n",
       "      <td>0.00</td>\n",
       "      <td>0.04</td>\n",
       "      <td>82.0</td>\n",
       "      <td>8.5</td>\n",
       "      <td>T</td>\n",
       "    </tr>\n",
       "    <tr>\n",
       "      <th>11715</th>\n",
       "      <td>Need for Speed: Most Wanted</td>\n",
       "      <td>PC</td>\n",
       "      <td>2012-01-01</td>\n",
       "      <td>Racing</td>\n",
       "      <td>0.00</td>\n",
       "      <td>0.06</td>\n",
       "      <td>0.00</td>\n",
       "      <td>0.02</td>\n",
       "      <td>82.0</td>\n",
       "      <td>8.5</td>\n",
       "      <td>T</td>\n",
       "    </tr>\n",
       "    <tr>\n",
       "      <th>604</th>\n",
       "      <td>Madden NFL 13</td>\n",
       "      <td>PS3</td>\n",
       "      <td>2012-01-01</td>\n",
       "      <td>Sports</td>\n",
       "      <td>2.11</td>\n",
       "      <td>0.22</td>\n",
       "      <td>0.00</td>\n",
       "      <td>0.23</td>\n",
       "      <td>83.0</td>\n",
       "      <td>5.5</td>\n",
       "      <td>E</td>\n",
       "    </tr>\n",
       "    <tr>\n",
       "      <th>16230</th>\n",
       "      <td>Madden NFL 13</td>\n",
       "      <td>PS3</td>\n",
       "      <td>2012-01-01</td>\n",
       "      <td>Sports</td>\n",
       "      <td>0.00</td>\n",
       "      <td>0.01</td>\n",
       "      <td>0.00</td>\n",
       "      <td>0.00</td>\n",
       "      <td>83.0</td>\n",
       "      <td>5.5</td>\n",
       "      <td>E</td>\n",
       "    </tr>\n",
       "    <tr>\n",
       "      <th>1745</th>\n",
       "      <td>Sonic the Hedgehog</td>\n",
       "      <td>PS3</td>\n",
       "      <td>2006-01-01</td>\n",
       "      <td>Platform</td>\n",
       "      <td>0.41</td>\n",
       "      <td>0.06</td>\n",
       "      <td>0.04</td>\n",
       "      <td>0.66</td>\n",
       "      <td>43.0</td>\n",
       "      <td>4.1</td>\n",
       "      <td>E10+</td>\n",
       "    </tr>\n",
       "    <tr>\n",
       "      <th>4127</th>\n",
       "      <td>Sonic the Hedgehog</td>\n",
       "      <td>PS3</td>\n",
       "      <td>NaT</td>\n",
       "      <td>Platform</td>\n",
       "      <td>0.00</td>\n",
       "      <td>0.48</td>\n",
       "      <td>0.00</td>\n",
       "      <td>0.00</td>\n",
       "      <td>43.0</td>\n",
       "      <td>4.1</td>\n",
       "      <td>E10+</td>\n",
       "    </tr>\n",
       "    <tr>\n",
       "      <th>1190</th>\n",
       "      <td>Need for Speed: Most Wanted</td>\n",
       "      <td>X360</td>\n",
       "      <td>2012-01-01</td>\n",
       "      <td>Racing</td>\n",
       "      <td>0.62</td>\n",
       "      <td>0.78</td>\n",
       "      <td>0.01</td>\n",
       "      <td>0.15</td>\n",
       "      <td>83.0</td>\n",
       "      <td>8.5</td>\n",
       "      <td>T</td>\n",
       "    </tr>\n",
       "    <tr>\n",
       "      <th>1591</th>\n",
       "      <td>Need for Speed: Most Wanted</td>\n",
       "      <td>X360</td>\n",
       "      <td>2005-01-01</td>\n",
       "      <td>Racing</td>\n",
       "      <td>1.00</td>\n",
       "      <td>0.13</td>\n",
       "      <td>0.02</td>\n",
       "      <td>0.10</td>\n",
       "      <td>83.0</td>\n",
       "      <td>8.5</td>\n",
       "      <td>T</td>\n",
       "    </tr>\n",
       "  </tbody>\n",
       "</table>\n",
       "</div>"
      ],
      "text/plain": [
       "                              name platform year_of_release     genre  \\\n",
       "659                            NaN      GEN      1993-01-01       NaN   \n",
       "14244                          NaN      GEN      1993-01-01       NaN   \n",
       "5972   Need for Speed: Most Wanted       PC      2005-01-01    Racing   \n",
       "11715  Need for Speed: Most Wanted       PC      2012-01-01    Racing   \n",
       "604                  Madden NFL 13      PS3      2012-01-01    Sports   \n",
       "16230                Madden NFL 13      PS3      2012-01-01    Sports   \n",
       "1745            Sonic the Hedgehog      PS3      2006-01-01  Platform   \n",
       "4127            Sonic the Hedgehog      PS3             NaT  Platform   \n",
       "1190   Need for Speed: Most Wanted     X360      2012-01-01    Racing   \n",
       "1591   Need for Speed: Most Wanted     X360      2005-01-01    Racing   \n",
       "\n",
       "       na_sales  eu_sales  jp_sales  other_sales  critic_score  user_score  \\\n",
       "659        1.78      0.53      0.00         0.08           NaN         NaN   \n",
       "14244      0.00      0.00      0.03         0.00           NaN         NaN   \n",
       "5972       0.02      0.23      0.00         0.04          82.0         8.5   \n",
       "11715      0.00      0.06      0.00         0.02          82.0         8.5   \n",
       "604        2.11      0.22      0.00         0.23          83.0         5.5   \n",
       "16230      0.00      0.01      0.00         0.00          83.0         5.5   \n",
       "1745       0.41      0.06      0.04         0.66          43.0         4.1   \n",
       "4127       0.00      0.48      0.00         0.00          43.0         4.1   \n",
       "1190       0.62      0.78      0.01         0.15          83.0         8.5   \n",
       "1591       1.00      0.13      0.02         0.10          83.0         8.5   \n",
       "\n",
       "      rating  \n",
       "659      NaN  \n",
       "14244    NaN  \n",
       "5972       T  \n",
       "11715      T  \n",
       "604        E  \n",
       "16230      E  \n",
       "1745    E10+  \n",
       "4127    E10+  \n",
       "1190       T  \n",
       "1591       T  "
      ]
     },
     "execution_count": 8,
     "metadata": {},
     "output_type": "execute_result"
    }
   ],
   "source": [
    "df.duplicated(subset=['platform','name']).sum()\n",
    "df[df.duplicated(subset=['platform','name'],keep=False)].sort_values(by=['platform','name'])"
   ]
  },
  {
   "cell_type": "code",
   "execution_count": 9,
   "id": "859c0eb4",
   "metadata": {},
   "outputs": [],
   "source": [
    "df = df.drop(index=[659,14244,16230,4127],axis=0)\n",
    "df.reset_index(drop=True,inplace=True)"
   ]
  },
  {
   "cell_type": "markdown",
   "id": "9394eed4",
   "metadata": {},
   "source": [
    "Действительно такие есть, но лишь два объекта под индексом 659,14244,16230,4127 - которые является не информативным из пары строк, поэтому его и удалим. Что касательно  Need for Speed: Most Wanted, то в таблице находятся переиздания на платформе за 2012 и 2005 год. "
   ]
  },
  {
   "cell_type": "code",
   "execution_count": 10,
   "id": "3f5c4ec2",
   "metadata": {},
   "outputs": [
    {
     "data": {
      "text/html": [
       "<div>\n",
       "<style scoped>\n",
       "    .dataframe tbody tr th:only-of-type {\n",
       "        vertical-align: middle;\n",
       "    }\n",
       "\n",
       "    .dataframe tbody tr th {\n",
       "        vertical-align: top;\n",
       "    }\n",
       "\n",
       "    .dataframe thead th {\n",
       "        text-align: right;\n",
       "    }\n",
       "</style>\n",
       "<table border=\"1\" class=\"dataframe\">\n",
       "  <thead>\n",
       "    <tr style=\"text-align: right;\">\n",
       "      <th></th>\n",
       "      <th>name</th>\n",
       "      <th>platform</th>\n",
       "      <th>year_of_release</th>\n",
       "      <th>genre</th>\n",
       "      <th>na_sales</th>\n",
       "      <th>eu_sales</th>\n",
       "      <th>jp_sales</th>\n",
       "      <th>other_sales</th>\n",
       "      <th>critic_score</th>\n",
       "      <th>user_score</th>\n",
       "      <th>rating</th>\n",
       "    </tr>\n",
       "  </thead>\n",
       "  <tbody>\n",
       "    <tr>\n",
       "      <th>5970</th>\n",
       "      <td>Need for Speed: Most Wanted</td>\n",
       "      <td>PC</td>\n",
       "      <td>2005-01-01</td>\n",
       "      <td>Racing</td>\n",
       "      <td>0.02</td>\n",
       "      <td>0.23</td>\n",
       "      <td>0.00</td>\n",
       "      <td>0.04</td>\n",
       "      <td>82.0</td>\n",
       "      <td>8.5</td>\n",
       "      <td>T</td>\n",
       "    </tr>\n",
       "    <tr>\n",
       "      <th>11713</th>\n",
       "      <td>Need for Speed: Most Wanted</td>\n",
       "      <td>PC</td>\n",
       "      <td>2012-01-01</td>\n",
       "      <td>Racing</td>\n",
       "      <td>0.00</td>\n",
       "      <td>0.06</td>\n",
       "      <td>0.00</td>\n",
       "      <td>0.02</td>\n",
       "      <td>82.0</td>\n",
       "      <td>8.5</td>\n",
       "      <td>T</td>\n",
       "    </tr>\n",
       "    <tr>\n",
       "      <th>1189</th>\n",
       "      <td>Need for Speed: Most Wanted</td>\n",
       "      <td>X360</td>\n",
       "      <td>2012-01-01</td>\n",
       "      <td>Racing</td>\n",
       "      <td>0.62</td>\n",
       "      <td>0.78</td>\n",
       "      <td>0.01</td>\n",
       "      <td>0.15</td>\n",
       "      <td>83.0</td>\n",
       "      <td>8.5</td>\n",
       "      <td>T</td>\n",
       "    </tr>\n",
       "    <tr>\n",
       "      <th>1590</th>\n",
       "      <td>Need for Speed: Most Wanted</td>\n",
       "      <td>X360</td>\n",
       "      <td>2005-01-01</td>\n",
       "      <td>Racing</td>\n",
       "      <td>1.00</td>\n",
       "      <td>0.13</td>\n",
       "      <td>0.02</td>\n",
       "      <td>0.10</td>\n",
       "      <td>83.0</td>\n",
       "      <td>8.5</td>\n",
       "      <td>T</td>\n",
       "    </tr>\n",
       "  </tbody>\n",
       "</table>\n",
       "</div>"
      ],
      "text/plain": [
       "                              name platform year_of_release   genre  na_sales  \\\n",
       "5970   Need for Speed: Most Wanted       PC      2005-01-01  Racing      0.02   \n",
       "11713  Need for Speed: Most Wanted       PC      2012-01-01  Racing      0.00   \n",
       "1189   Need for Speed: Most Wanted     X360      2012-01-01  Racing      0.62   \n",
       "1590   Need for Speed: Most Wanted     X360      2005-01-01  Racing      1.00   \n",
       "\n",
       "       eu_sales  jp_sales  other_sales  critic_score  user_score rating  \n",
       "5970       0.23      0.00         0.04          82.0         8.5      T  \n",
       "11713      0.06      0.00         0.02          82.0         8.5      T  \n",
       "1189       0.78      0.01         0.15          83.0         8.5      T  \n",
       "1590       0.13      0.02         0.10          83.0         8.5      T  "
      ]
     },
     "execution_count": 10,
     "metadata": {},
     "output_type": "execute_result"
    }
   ],
   "source": [
    "df[df.duplicated(subset=['platform','name'],keep=False)].sort_values(by=['platform','name'])"
   ]
  },
  {
   "cell_type": "markdown",
   "id": "be00768a",
   "metadata": {},
   "source": [
    "По другим полям уже не может существовать неявных дубликатов, поэтому перейдем к обрабокте пропусков."
   ]
  },
  {
   "cell_type": "markdown",
   "id": "475eef25",
   "metadata": {},
   "source": [
    "### 1.4 Обработка пропусков"
   ]
  },
  {
   "cell_type": "code",
   "execution_count": 11,
   "id": "74752024",
   "metadata": {
    "scrolled": true
   },
   "outputs": [
    {
     "data": {
      "text/plain": [
       "name                  0\n",
       "platform              0\n",
       "year_of_release     268\n",
       "genre                 0\n",
       "na_sales              0\n",
       "eu_sales              0\n",
       "jp_sales              0\n",
       "other_sales           0\n",
       "critic_score       8576\n",
       "user_score         9123\n",
       "rating             6764\n",
       "dtype: int64"
      ]
     },
     "execution_count": 11,
     "metadata": {},
     "output_type": "execute_result"
    }
   ],
   "source": [
    "df.isna().sum()"
   ]
  },
  {
   "cell_type": "code",
   "execution_count": 12,
   "id": "0b2325dd",
   "metadata": {},
   "outputs": [],
   "source": [
    "names_isna = ['name','year_of_release','genre']\n",
    "for name in names_isna:\n",
    "    index=df[df[name].isna()].index\n",
    "    df = df.drop(index).reset_index(drop=True)"
   ]
  },
  {
   "cell_type": "markdown",
   "id": "7aa08cb4",
   "metadata": {},
   "source": [
    "Пропуски, которые сложно восстановить\n",
    "* **critic_score**,**user_score** - много пропусков одновременно нет, так как мб не было площадок, где люди могли бы оставлять отзывы об играх, либо же эти самые игры не были размещены на каком-нибудь форуме - в зависимости от года выпуска игры\n",
    "* **rating** - пропуски могут быть из-за того, что возрастной рейтинг ставился в другой системе, которая не соотносится с ESRB, либо системы оценки игры раньше до какого-то года не могло быть, поэтому им не был присужден рейтинг  \n",
    "Сами по себе пропуски не восстановимы из данных, что имеются, поэтому оставим их, держа в голове, что там они есть."
   ]
  },
  {
   "cell_type": "code",
   "execution_count": 13,
   "id": "b0d0f93b",
   "metadata": {
    "scrolled": true
   },
   "outputs": [
    {
     "data": {
      "text/plain": [
       "name                  0\n",
       "platform              0\n",
       "year_of_release       0\n",
       "genre                 0\n",
       "na_sales              0\n",
       "eu_sales              0\n",
       "jp_sales              0\n",
       "other_sales           0\n",
       "critic_score       8461\n",
       "user_score         8981\n",
       "rating                0\n",
       "dtype: int64"
      ]
     },
     "execution_count": 13,
     "metadata": {},
     "output_type": "execute_result"
    }
   ],
   "source": [
    "df['rating'].fillna('ND',inplace=True) # ND - not defiened - не определен\n",
    "df.isna().sum()"
   ]
  },
  {
   "cell_type": "markdown",
   "id": "f803224b",
   "metadata": {},
   "source": [
    "ND вместо Nan - как заглушка на категориальные данные"
   ]
  },
  {
   "cell_type": "markdown",
   "id": "2be54258",
   "metadata": {},
   "source": [
    "### 1.5 Обработка данных"
   ]
  },
  {
   "cell_type": "code",
   "execution_count": 14,
   "id": "31ee01b5",
   "metadata": {},
   "outputs": [
    {
     "data": {
      "text/html": [
       "<div>\n",
       "<style scoped>\n",
       "    .dataframe tbody tr th:only-of-type {\n",
       "        vertical-align: middle;\n",
       "    }\n",
       "\n",
       "    .dataframe tbody tr th {\n",
       "        vertical-align: top;\n",
       "    }\n",
       "\n",
       "    .dataframe thead th {\n",
       "        text-align: right;\n",
       "    }\n",
       "</style>\n",
       "<table border=\"1\" class=\"dataframe\">\n",
       "  <thead>\n",
       "    <tr style=\"text-align: right;\">\n",
       "      <th></th>\n",
       "      <th>name</th>\n",
       "      <th>platform</th>\n",
       "      <th>year_of_release</th>\n",
       "      <th>genre</th>\n",
       "      <th>na_sales</th>\n",
       "      <th>eu_sales</th>\n",
       "      <th>jp_sales</th>\n",
       "      <th>other_sales</th>\n",
       "      <th>critic_score</th>\n",
       "      <th>user_score</th>\n",
       "      <th>rating</th>\n",
       "      <th>total_sales</th>\n",
       "    </tr>\n",
       "  </thead>\n",
       "  <tbody>\n",
       "    <tr>\n",
       "      <th>0</th>\n",
       "      <td>Wii Sports</td>\n",
       "      <td>Wii</td>\n",
       "      <td>2006-01-01</td>\n",
       "      <td>Sports</td>\n",
       "      <td>41.36</td>\n",
       "      <td>28.96</td>\n",
       "      <td>3.77</td>\n",
       "      <td>8.45</td>\n",
       "      <td>76.0</td>\n",
       "      <td>8.0</td>\n",
       "      <td>E</td>\n",
       "      <td>82.54</td>\n",
       "    </tr>\n",
       "    <tr>\n",
       "      <th>1</th>\n",
       "      <td>Super Mario Bros.</td>\n",
       "      <td>NES</td>\n",
       "      <td>1985-01-01</td>\n",
       "      <td>Platform</td>\n",
       "      <td>29.08</td>\n",
       "      <td>3.58</td>\n",
       "      <td>6.81</td>\n",
       "      <td>0.77</td>\n",
       "      <td>NaN</td>\n",
       "      <td>NaN</td>\n",
       "      <td>ND</td>\n",
       "      <td>40.24</td>\n",
       "    </tr>\n",
       "    <tr>\n",
       "      <th>2</th>\n",
       "      <td>Mario Kart Wii</td>\n",
       "      <td>Wii</td>\n",
       "      <td>2008-01-01</td>\n",
       "      <td>Racing</td>\n",
       "      <td>15.68</td>\n",
       "      <td>12.76</td>\n",
       "      <td>3.79</td>\n",
       "      <td>3.29</td>\n",
       "      <td>82.0</td>\n",
       "      <td>8.3</td>\n",
       "      <td>E</td>\n",
       "      <td>35.52</td>\n",
       "    </tr>\n",
       "    <tr>\n",
       "      <th>3</th>\n",
       "      <td>Wii Sports Resort</td>\n",
       "      <td>Wii</td>\n",
       "      <td>2009-01-01</td>\n",
       "      <td>Sports</td>\n",
       "      <td>15.61</td>\n",
       "      <td>10.93</td>\n",
       "      <td>3.28</td>\n",
       "      <td>2.95</td>\n",
       "      <td>80.0</td>\n",
       "      <td>8.0</td>\n",
       "      <td>E</td>\n",
       "      <td>32.77</td>\n",
       "    </tr>\n",
       "    <tr>\n",
       "      <th>4</th>\n",
       "      <td>Pokemon Red/Pokemon Blue</td>\n",
       "      <td>GB</td>\n",
       "      <td>1996-01-01</td>\n",
       "      <td>Role-Playing</td>\n",
       "      <td>11.27</td>\n",
       "      <td>8.89</td>\n",
       "      <td>10.22</td>\n",
       "      <td>1.00</td>\n",
       "      <td>NaN</td>\n",
       "      <td>NaN</td>\n",
       "      <td>ND</td>\n",
       "      <td>31.38</td>\n",
       "    </tr>\n",
       "  </tbody>\n",
       "</table>\n",
       "</div>"
      ],
      "text/plain": [
       "                       name platform year_of_release         genre  na_sales  \\\n",
       "0                Wii Sports      Wii      2006-01-01        Sports     41.36   \n",
       "1         Super Mario Bros.      NES      1985-01-01      Platform     29.08   \n",
       "2            Mario Kart Wii      Wii      2008-01-01        Racing     15.68   \n",
       "3         Wii Sports Resort      Wii      2009-01-01        Sports     15.61   \n",
       "4  Pokemon Red/Pokemon Blue       GB      1996-01-01  Role-Playing     11.27   \n",
       "\n",
       "   eu_sales  jp_sales  other_sales  critic_score  user_score rating  \\\n",
       "0     28.96      3.77         8.45          76.0         8.0      E   \n",
       "1      3.58      6.81         0.77           NaN         NaN     ND   \n",
       "2     12.76      3.79         3.29          82.0         8.3      E   \n",
       "3     10.93      3.28         2.95          80.0         8.0      E   \n",
       "4      8.89     10.22         1.00           NaN         NaN     ND   \n",
       "\n",
       "   total_sales  \n",
       "0        82.54  \n",
       "1        40.24  \n",
       "2        35.52  \n",
       "3        32.77  \n",
       "4        31.38  "
      ]
     },
     "execution_count": 14,
     "metadata": {},
     "output_type": "execute_result"
    }
   ],
   "source": [
    "df['total_sales'] = df[['na_sales','eu_sales','jp_sales', 'other_sales']].sum(axis = 1)\n",
    "df.head()"
   ]
  },
  {
   "cell_type": "markdown",
   "id": "8e831ccc",
   "metadata": {},
   "source": [
    "## Исследовательский анализ данных"
   ]
  },
  {
   "cell_type": "code",
   "execution_count": 15,
   "id": "af123277",
   "metadata": {},
   "outputs": [],
   "source": [
    "import seaborn as sns\n",
    "import matplotlib.pyplot as plt"
   ]
  },
  {
   "cell_type": "markdown",
   "id": "c43c0309",
   "metadata": {},
   "source": [
    "**Важны ли данные за все периоды?**"
   ]
  },
  {
   "cell_type": "code",
   "execution_count": 16,
   "id": "a626b68e",
   "metadata": {},
   "outputs": [
    {
     "data": {
      "text/plain": [
       "<AxesSubplot:>"
      ]
     },
     "execution_count": 16,
     "metadata": {},
     "output_type": "execute_result"
    },
    {
     "data": {
      "image/png": "[encoded data removed]",
      "text/plain": [
       "<Figure size 432x288 with 1 Axes>"
      ]
     },
     "metadata": {
      "needs_background": "light"
     },
     "output_type": "display_data"
    }
   ],
   "source": [
    "df['year_of_release'].hist(bins=36)"
   ]
  },
  {
   "cell_type": "markdown",
   "id": "03a0d38d",
   "metadata": {},
   "source": [
    "Начиная с **2014 года по 2016 год - актуальный период**, на который стоит ориентироваться, поскольку видно, что тренды быстро меняются, поэтому чтобы не оказаться в заблуждение и не рассматривать \"мертвые\" тренды, возьмем достаточно короткий период за актуальный."
   ]
  },
  {
   "cell_type": "markdown",
   "id": "ebf0dd78",
   "metadata": {},
   "source": [
    "*Рассмотрим топ-5 платформ по суммарным продажам за все время их существования*"
   ]
  },
  {
   "cell_type": "code",
   "execution_count": 17,
   "id": "9441ff15",
   "metadata": {
    "scrolled": true
   },
   "outputs": [
    {
     "data": {
      "text/html": [
       "<div>\n",
       "<style scoped>\n",
       "    .dataframe tbody tr th:only-of-type {\n",
       "        vertical-align: middle;\n",
       "    }\n",
       "\n",
       "    .dataframe tbody tr th {\n",
       "        vertical-align: top;\n",
       "    }\n",
       "\n",
       "    .dataframe thead th {\n",
       "        text-align: right;\n",
       "    }\n",
       "</style>\n",
       "<table border=\"1\" class=\"dataframe\">\n",
       "  <thead>\n",
       "    <tr style=\"text-align: right;\">\n",
       "      <th></th>\n",
       "      <th>sum</th>\n",
       "    </tr>\n",
       "    <tr>\n",
       "      <th>platform</th>\n",
       "      <th></th>\n",
       "    </tr>\n",
       "  </thead>\n",
       "  <tbody>\n",
       "    <tr>\n",
       "      <th>PS2</th>\n",
       "      <td>1233.56</td>\n",
       "    </tr>\n",
       "    <tr>\n",
       "      <th>X360</th>\n",
       "      <td>961.24</td>\n",
       "    </tr>\n",
       "    <tr>\n",
       "      <th>PS3</th>\n",
       "      <td>931.33</td>\n",
       "    </tr>\n",
       "    <tr>\n",
       "      <th>Wii</th>\n",
       "      <td>891.18</td>\n",
       "    </tr>\n",
       "    <tr>\n",
       "      <th>DS</th>\n",
       "      <td>802.78</td>\n",
       "    </tr>\n",
       "  </tbody>\n",
       "</table>\n",
       "</div>"
      ],
      "text/plain": [
       "              sum\n",
       "platform         \n",
       "PS2       1233.56\n",
       "X360       961.24\n",
       "PS3        931.33\n",
       "Wii        891.18\n",
       "DS         802.78"
      ]
     },
     "execution_count": 17,
     "metadata": {},
     "output_type": "execute_result"
    }
   ],
   "source": [
    "total_sales_top = df.pivot_table(index='platform',values='total_sales',aggfunc={'sum'}).sort_values(['sum'],ascending=False)[:5]\n",
    "total_sales_top"
   ]
  },
  {
   "cell_type": "markdown",
   "id": "9c38d5f6",
   "metadata": {},
   "source": [
    "**За какой характерный срок появляются новые и исчезают старые платформы?**  \n",
    "*Построим распределение продаж каждой платформы по годам*"
   ]
  },
  {
   "cell_type": "code",
   "execution_count": 18,
   "id": "19b0a4f0",
   "metadata": {},
   "outputs": [
    {
     "data": {
      "image/png": "[encoded data removed]",
      "text/plain": [
       "<Figure size 432x288 with 1 Axes>"
      ]
     },
     "metadata": {
      "needs_background": "light"
     },
     "output_type": "display_data"
    },
    {
     "data": {
      "image/png": "[encoded data removed]",
      "text/plain": [
       "<Figure size 432x288 with 1 Axes>"
      ]
     },
     "metadata": {
      "needs_background": "light"
     },
     "output_type": "display_data"
    },
    {
     "data": {
      "image/png": "[encoded data removed]",
      "text/plain": [
       "<Figure size 432x288 with 1 Axes>"
      ]
     },
     "metadata": {
      "needs_background": "light"
     },
     "output_type": "display_data"
    },
    {
     "data": {
      "image/png": "[encoded data removed]",
      "text/plain": [
       "<Figure size 432x288 with 1 Axes>"
      ]
     },
     "metadata": {
      "needs_background": "light"
     },
     "output_type": "display_data"
    },
    {
     "data": {
      "image/png": "[encoded data removed]",
      "text/plain": [
       "<Figure size 432x288 with 1 Axes>"
      ]
     },
     "metadata": {
      "needs_background": "light"
     },
     "output_type": "display_data"
    }
   ],
   "source": [
    "for platform in total_sales_top.index:\n",
    "    df_info = df.query('platform == @platform').pivot_table(index='year_of_release',values='total_sales',aggfunc={'sum'})\n",
    "    years= [el.year for el in df_info.index.date] # преобразуем индексы в года\n",
    "    sns.barplot(x=years,y=df_info['sum']).set(title=platform,ylabel='total_sum')\n",
    "    plt.show()"
   ]
  },
  {
   "cell_type": "markdown",
   "id": "d1ea302d",
   "metadata": {},
   "source": [
    "*Характерный срок жизни для игровой платформы приблизительно **9-10 лет**, также на примере серии PlayStation - можно увидеть, что новые платформы появляются через **6 лет** после выхода предыдущей.*"
   ]
  },
  {
   "cell_type": "markdown",
   "id": "b6ec9b88",
   "metadata": {},
   "source": [
    "**Отфильтруем данные для работы, так, чтобы игры, соотвествовали актуальному периоду** "
   ]
  },
  {
   "cell_type": "markdown",
   "id": "0429c254",
   "metadata": {},
   "source": [
    "Период жизни платформ около 10 лет, что достаточно динамично для рынка, поэтому для прогноза на предстоящий год, возьмем данные за последние 3 года."
   ]
  },
  {
   "cell_type": "code",
   "execution_count": 19,
   "id": "4912660a",
   "metadata": {},
   "outputs": [],
   "source": [
    "df_actually = df.query('year_of_release >= 2014') # таблица, соответств. актуальному периоду"
   ]
  },
  {
   "cell_type": "markdown",
   "id": "c6855c82",
   "metadata": {},
   "source": [
    "**Какие платформы лидируют по продажам, растут или падают?**"
   ]
  },
  {
   "cell_type": "code",
   "execution_count": 20,
   "id": "6697db3a",
   "metadata": {},
   "outputs": [],
   "source": [
    "df_actually_groped_pf = (df_actually\n",
    "     .pivot_table(index=['platform','year_of_release'],\n",
    "                        values='total_sales',\n",
    "                        aggfunc='sum')\n",
    "     .reset_index() # избавляемся от мульти-индекса\n",
    "    )"
   ]
  },
  {
   "cell_type": "code",
   "execution_count": 21,
   "id": "0500ece3",
   "metadata": {},
   "outputs": [
    {
     "data": {
      "image/png": "[encoded data removed]",
      "text/plain": [
       "<Figure size 432x288 with 1 Axes>"
      ]
     },
     "metadata": {
      "needs_background": "light"
     },
     "output_type": "display_data"
    },
    {
     "data": {
      "image/png": "[encoded data removed]",
      "text/plain": [
       "<Figure size 432x288 with 1 Axes>"
      ]
     },
     "metadata": {
      "needs_background": "light"
     },
     "output_type": "display_data"
    },
    {
     "data": {
      "image/png": "[encoded data removed]",
      "text/plain": [
       "<Figure size 432x288 with 1 Axes>"
      ]
     },
     "metadata": {
      "needs_background": "light"
     },
     "output_type": "display_data"
    },
    {
     "data": {
      "image/png": "[encoded data removed]",
      "text/plain": [
       "<Figure size 432x288 with 1 Axes>"
      ]
     },
     "metadata": {
      "needs_background": "light"
     },
     "output_type": "display_data"
    },
    {
     "data": {
      "image/png": "[encoded data removed]",
      "text/plain": [
       "<Figure size 432x288 with 1 Axes>"
      ]
     },
     "metadata": {
      "needs_background": "light"
     },
     "output_type": "display_data"
    },
    {
     "data": {
      "image/png": "[encoded data removed]",
      "text/plain": [
       "<Figure size 432x288 with 1 Axes>"
      ]
     },
     "metadata": {
      "needs_background": "light"
     },
     "output_type": "display_data"
    },
    {
     "data": {
      "image/png": "[encoded data removed]",
      "text/plain": [
       "<Figure size 432x288 with 1 Axes>"
      ]
     },
     "metadata": {
      "needs_background": "light"
     },
     "output_type": "display_data"
    },
    {
     "data": {
      "image/png": "[encoded data removed]",
      "text/plain": [
       "<Figure size 432x288 with 1 Axes>"
      ]
     },
     "metadata": {
      "needs_background": "light"
     },
     "output_type": "display_data"
    },
    {
     "data": {
      "image/png": "[encoded data removed]",
      "text/plain": [
       "<Figure size 432x288 with 1 Axes>"
      ]
     },
     "metadata": {
      "needs_background": "light"
     },
     "output_type": "display_data"
    },
    {
     "data": {
      "image/png": "[encoded data removed]",
      "text/plain": [
       "<Figure size 432x288 with 1 Axes>"
      ]
     },
     "metadata": {
      "needs_background": "light"
     },
     "output_type": "display_data"
    }
   ],
   "source": [
    "for name_platform in df_actually['platform'].unique():\n",
    "    pf_years = df_actually_groped_pf.query('platform == @name_platform')\n",
    "    years= [el.year for el in pf_years['year_of_release']]\n",
    "    sns.barplot(y=pf_years['total_sales'],x=years).set(title=name_platform,ylabel='total_sum')\n",
    "    plt.show()"
   ]
  },
  {
   "cell_type": "markdown",
   "id": "2dcce5f6",
   "metadata": {},
   "source": [
    "**Нам интересны данные, как минимум, об игровых платформах, у которых есть продажи за 2016 год. Среди таких:**\n",
    "- [ ] Wii  \n",
    " *Имеет убывающий тренд, и находится на минимуме своей популярности для разработчиков игр/ Должно быть причина в том, что \n",
    " в 2012 году появляется WiiU, которая является продолжением линейки, к тому же на 2017 год - платформе будет 11 лет, что выбивается из продолжительности жизни платформ*\n",
    "- [ ] X360  \n",
    " *Аналогичная ситуация как у Wii, вышло следующее поколение платформы - Xbox One*\n",
    "- [ ] PS3  \n",
    " *Все точно также как у Wii и X360, комьюнити отдает предпочтение PS4*\n",
    "- [x] PS4  \n",
    " *Платформа достаточно молодая, ей всего 4 года, но уже наблюдается просадка в 2016 году, возможно, что-то произошло с индустрией, либо это связано с тем, что в данных неполный 2017 год*\n",
    "- [ ] 3DS  \n",
    " *Во-первых, есть тренд - убывающий, то есть количество проданных копий игр на этой платформе становится меньше. Во-вторых, по масштабу может показаться, что общий объем денег достаточно высокий на 2016 год, но на самом деле он сопоставим с минимумом для остальных вышеперечисленных исключенных из списка платформ*\n",
    "- [x] PC  \n",
    " *Продолжительность платформы в данном случае не измеримо, так как компьютеры остаются актуальными всегда. Если рассмотреть распределение, то кажется, что продажи игр на PC имеют периодичность, и может быть в 2017 году окажется рост продаж.*\n",
    "- [x] XOne  \n",
    " *Аналогично как у PS4, в обоих случаях должен быть рост*\n",
    "- [x] WiiU  \n",
    " *Наблюдается некоторый отскок проданных копий вниз, но, возможно, это из-за недостатка данных за 2016 год, в таком случае объем копий - достаточный, чтобы назваться популярной платформой на актуальный период*\n",
    "- [ ] PSV  \n",
    " *Продажи явным образом не растут. Либо остаются на том же уровне, либо уменьшаются - во всяком случае по своему объему, они дотстаточно маленькие*  \n",
    " ______________________________________________________________________________________________________\n",
    " *PSP* - платформа, на которой, насколько нам известно из данных, не выпускались игры в 2016 году, и возможно она уже не интересна нам  \n",
    " **Вывод: PS4, XOne, PC, WiiU - самые перспективные платформы на 2017 год** "
   ]
  },
  {
   "cell_type": "markdown",
   "id": "a2f0d1a6",
   "metadata": {},
   "source": [
    "**Рассмотрим диаграмму размаха продаж для платформ**"
   ]
  },
  {
   "cell_type": "code",
   "execution_count": 22,
   "id": "a0c6c6c1",
   "metadata": {},
   "outputs": [
    {
     "data": {
      "image/png": "[encoded data removed]",
      "text/plain": [
       "<Figure size 1224x576 with 1 Axes>"
      ]
     },
     "metadata": {
      "needs_background": "light"
     },
     "output_type": "display_data"
    }
   ],
   "source": [
    "plt.figure(figsize=(17,8))\n",
    "sns.boxplot(x='platform',y='total_sales',data=df_actually).set(title='Диаграмма размаха глобальных продаж',ylabel='Продажи')\n",
    "plt.ylim(0,3);"
   ]
  },
  {
   "cell_type": "markdown",
   "id": "dddc7485",
   "metadata": {},
   "source": [
    "PC,PSV, DC, PSP - имееют самую маленькую медиану по продажам среди всех платформ  \n",
    "WiiU, XOne и PS4 - имеют одинаковую медиану, значением около 0,25*10^6 проданных копий  \n",
    "PS4 и X360 - верхняя граница этих платформ, наибольшая в акутальном периоде, за ними по уровню границы будут - XOne и PS3"
   ]
  },
  {
   "cell_type": "markdown",
   "id": "59001b1e",
   "metadata": {},
   "source": [
    "**Влияют ли на продажи отзывы пользователей и критиков?**  \n",
    "Проверим данную гипотезу на примере популярных платформ, которые мы оценивали ранее"
   ]
  },
  {
   "cell_type": "code",
   "execution_count": 23,
   "id": "f4128fa4",
   "metadata": {},
   "outputs": [],
   "source": [
    "def corr_info(name):\n",
    "    df_corr = df_actually.query('platform == @name')\n",
    "    critic_corr = df_corr.plot(kind='scatter',x='critic_score',y='total_sales',alpha=0.25,title=name);\n",
    "    user_corr = df_corr.plot(kind='scatter',x='user_score',y='total_sales',alpha=0.25);\n",
    "    print(f'''\n",
    "        Коэффициент корреляции продаж от оценок пользователей - {df_corr['total_sales'].corr(df_corr['user_score'])} для {name}\n",
    "        Коэффициент корреляции продаж от оценок критиков - {df_corr['total_sales'].corr(df_corr['critic_score'])} для {name}\n",
    "    ''',end='\\n------------------------------------------------------------------------------------------------\\n')\n",
    "    \n",
    "    "
   ]
  },
  {
   "cell_type": "code",
   "execution_count": 24,
   "id": "6420d130",
   "metadata": {},
   "outputs": [
    {
     "name": "stdout",
     "output_type": "stream",
     "text": [
      "\n",
      "        Коэффициент корреляции продаж от оценок пользователей - -0.07159665703472454 для PC\n",
      "        Коэффициент корреляции продаж от оценок критиков - 0.17463413769350025 для PC\n",
      "    \n",
      "------------------------------------------------------------------------------------------------\n",
      "\n",
      "        Коэффициент корреляции продаж от оценок пользователей - -0.07038392806475818 для XOne\n",
      "        Коэффициент корреляции продаж от оценок критиков - 0.428676943703332 для XOne\n",
      "    \n",
      "------------------------------------------------------------------------------------------------\n",
      "\n",
      "        Коэффициент корреляции продаж от оценок пользователей - -0.040131589472697286 для PS4\n",
      "        Коэффициент корреляции продаж от оценок критиков - 0.402661410681041 для PS4\n",
      "    \n",
      "------------------------------------------------------------------------------------------------\n",
      "\n",
      "        Коэффициент корреляции продаж от оценок пользователей - 0.40792645792170784 для WiiU\n",
      "        Коэффициент корреляции продаж от оценок критиков - 0.37020141248088406 для WiiU\n",
      "    \n",
      "------------------------------------------------------------------------------------------------\n"
     ]
    },
    {
     "data": {
      "image/png": "[encoded data removed]",
      "text/plain": [
       "<Figure size 432x288 with 1 Axes>"
      ]
     },
     "metadata": {
      "needs_background": "light"
     },
     "output_type": "display_data"
    },
    {
     "data": {
      "image/png": "[encoded data removed]",
      "text/plain": [
       "<Figure size 432x288 with 1 Axes>"
      ]
     },
     "metadata": {
      "needs_background": "light"
     },
     "output_type": "display_data"
    },
    {
     "data": {
      "image/png": "[encoded data removed]",
      "text/plain": [
       "<Figure size 432x288 with 1 Axes>"
      ]
     },
     "metadata": {
      "needs_background": "light"
     },
     "output_type": "display_data"
    },
    {
     "data": {
      "image/png": "[encoded data removed]",
      "text/plain": [
       "<Figure size 432x288 with 1 Axes>"
      ]
     },
     "metadata": {
      "needs_background": "light"
     },
     "output_type": "display_data"
    },
    {
     "data": {
      "image/png": "[encoded data removed]",
      "text/plain": [
       "<Figure size 432x288 with 1 Axes>"
      ]
     },
     "metadata": {
      "needs_background": "light"
     },
     "output_type": "display_data"
    },
    {
     "data": {
      "image/png": "[encoded data removed]",
      "text/plain": [
       "<Figure size 432x288 with 1 Axes>"
      ]
     },
     "metadata": {
      "needs_background": "light"
     },
     "output_type": "display_data"
    },
    {
     "data": {
      "image/png": "[encoded data removed]",
      "text/plain": [
       "<Figure size 432x288 with 1 Axes>"
      ]
     },
     "metadata": {
      "needs_background": "light"
     },
     "output_type": "display_data"
    },
    {
     "data": {
      "image/png": "[encoded data removed]",
      "text/plain": [
       "<Figure size 432x288 with 1 Axes>"
      ]
     },
     "metadata": {
      "needs_background": "light"
     },
     "output_type": "display_data"
    }
   ],
   "source": [
    "for name in ['PC','XOne','PS4','WiiU']:\n",
    "    x = corr_info(name)"
   ]
  },
  {
   "cell_type": "markdown",
   "id": "6392802a",
   "metadata": {},
   "source": [
    "* Между оценками пользователей и количеством проданных копий корреляция не существует, кроме как у платформы WiiU, в случае которой можно предположить, что игроки WiiU относятся внимательно к оценкам других игроков\n",
    "* А вот в случае оценков критиков есть некоторая положительная связь, что может обозначать, что мнение критиков слабым образом, но влияет на количество проданных копий среди всех платформ"
   ]
  },
  {
   "cell_type": "markdown",
   "id": "aff5cb9b",
   "metadata": {},
   "source": [
    "**Какие жанры самые прибыльные? Что об этих жанрах можно сказать? Выделяются ли жанры с высокими и низкими продажами?**"
   ]
  },
  {
   "cell_type": "code",
   "execution_count": 25,
   "id": "3c74b67c",
   "metadata": {},
   "outputs": [],
   "source": [
    "df_actually_genre = df_actually.pivot_table(index='genre',values='total_sales',aggfunc=('sum','mean','median','count')).sort_values(by='sum',ascending=False)"
   ]
  },
  {
   "cell_type": "code",
   "execution_count": 26,
   "id": "37c7902a",
   "metadata": {},
   "outputs": [
    {
     "data": {
      "text/html": [
       "<div>\n",
       "<style scoped>\n",
       "    .dataframe tbody tr th:only-of-type {\n",
       "        vertical-align: middle;\n",
       "    }\n",
       "\n",
       "    .dataframe tbody tr th {\n",
       "        vertical-align: top;\n",
       "    }\n",
       "\n",
       "    .dataframe thead th {\n",
       "        text-align: right;\n",
       "    }\n",
       "</style>\n",
       "<table border=\"1\" class=\"dataframe\">\n",
       "  <thead>\n",
       "    <tr style=\"text-align: right;\">\n",
       "      <th></th>\n",
       "      <th>count</th>\n",
       "      <th>mean</th>\n",
       "      <th>median</th>\n",
       "      <th>sum</th>\n",
       "    </tr>\n",
       "    <tr>\n",
       "      <th>genre</th>\n",
       "      <th></th>\n",
       "      <th></th>\n",
       "      <th></th>\n",
       "      <th></th>\n",
       "    </tr>\n",
       "  </thead>\n",
       "  <tbody>\n",
       "    <tr>\n",
       "      <th>Action</th>\n",
       "      <td>619</td>\n",
       "      <td>0.322068</td>\n",
       "      <td>0.090</td>\n",
       "      <td>199.36</td>\n",
       "    </tr>\n",
       "    <tr>\n",
       "      <th>Shooter</th>\n",
       "      <td>128</td>\n",
       "      <td>1.335469</td>\n",
       "      <td>0.515</td>\n",
       "      <td>170.94</td>\n",
       "    </tr>\n",
       "    <tr>\n",
       "      <th>Sports</th>\n",
       "      <td>161</td>\n",
       "      <td>0.680000</td>\n",
       "      <td>0.180</td>\n",
       "      <td>109.48</td>\n",
       "    </tr>\n",
       "    <tr>\n",
       "      <th>Role-Playing</th>\n",
       "      <td>221</td>\n",
       "      <td>0.459005</td>\n",
       "      <td>0.110</td>\n",
       "      <td>101.44</td>\n",
       "    </tr>\n",
       "    <tr>\n",
       "      <th>Misc</th>\n",
       "      <td>113</td>\n",
       "      <td>0.332301</td>\n",
       "      <td>0.090</td>\n",
       "      <td>37.55</td>\n",
       "    </tr>\n",
       "    <tr>\n",
       "      <th>Fighting</th>\n",
       "      <td>60</td>\n",
       "      <td>0.470333</td>\n",
       "      <td>0.125</td>\n",
       "      <td>28.22</td>\n",
       "    </tr>\n",
       "    <tr>\n",
       "      <th>Racing</th>\n",
       "      <td>69</td>\n",
       "      <td>0.398841</td>\n",
       "      <td>0.090</td>\n",
       "      <td>27.52</td>\n",
       "    </tr>\n",
       "    <tr>\n",
       "      <th>Platform</th>\n",
       "      <td>38</td>\n",
       "      <td>0.476053</td>\n",
       "      <td>0.140</td>\n",
       "      <td>18.09</td>\n",
       "    </tr>\n",
       "    <tr>\n",
       "      <th>Adventure</th>\n",
       "      <td>185</td>\n",
       "      <td>0.094865</td>\n",
       "      <td>0.030</td>\n",
       "      <td>17.55</td>\n",
       "    </tr>\n",
       "    <tr>\n",
       "      <th>Simulation</th>\n",
       "      <td>44</td>\n",
       "      <td>0.298409</td>\n",
       "      <td>0.100</td>\n",
       "      <td>13.13</td>\n",
       "    </tr>\n",
       "    <tr>\n",
       "      <th>Strategy</th>\n",
       "      <td>37</td>\n",
       "      <td>0.107027</td>\n",
       "      <td>0.060</td>\n",
       "      <td>3.96</td>\n",
       "    </tr>\n",
       "    <tr>\n",
       "      <th>Puzzle</th>\n",
       "      <td>14</td>\n",
       "      <td>0.157857</td>\n",
       "      <td>0.045</td>\n",
       "      <td>2.21</td>\n",
       "    </tr>\n",
       "  </tbody>\n",
       "</table>\n",
       "</div>"
      ],
      "text/plain": [
       "              count      mean  median     sum\n",
       "genre                                        \n",
       "Action          619  0.322068   0.090  199.36\n",
       "Shooter         128  1.335469   0.515  170.94\n",
       "Sports          161  0.680000   0.180  109.48\n",
       "Role-Playing    221  0.459005   0.110  101.44\n",
       "Misc            113  0.332301   0.090   37.55\n",
       "Fighting         60  0.470333   0.125   28.22\n",
       "Racing           69  0.398841   0.090   27.52\n",
       "Platform         38  0.476053   0.140   18.09\n",
       "Adventure       185  0.094865   0.030   17.55\n",
       "Simulation       44  0.298409   0.100   13.13\n",
       "Strategy         37  0.107027   0.060    3.96\n",
       "Puzzle           14  0.157857   0.045    2.21"
      ]
     },
     "execution_count": 26,
     "metadata": {},
     "output_type": "execute_result"
    }
   ],
   "source": [
    "df_actually_genre"
   ]
  },
  {
   "cell_type": "markdown",
   "id": "8f0e56cb",
   "metadata": {},
   "source": [
    "* **Shooter** - самый прибыльный жанр, так как у игр в этом жанре медианное и среднее значение проданных миллион копий - наибольшее\n",
    "* **Sports** и **Action** следующие жанры, разделяющие 2 и 3 место по этим критеряим, соотвественно \n",
    "* **Adventure** - достаточно популярный жанр по числу игр, но имеющий низкие показатели по продажам\n",
    "* **Puzzle и Strategy** самые не популярные и плохо продающиеся жанры игр"
   ]
  },
  {
   "cell_type": "markdown",
   "id": "81e344c2",
   "metadata": {},
   "source": [
    "# Портрет пользователя каждого региона"
   ]
  },
  {
   "cell_type": "markdown",
   "id": "ad5b3944",
   "metadata": {},
   "source": [
    "### Топ 5 платформ по регионам"
   ]
  },
  {
   "cell_type": "code",
   "execution_count": 27,
   "id": "0fa68b0d",
   "metadata": {},
   "outputs": [
    {
     "data": {
      "image/png": "[encoded data removed]",
      "text/plain": [
       "<Figure size 1368x504 with 3 Axes>"
      ]
     },
     "metadata": {},
     "output_type": "display_data"
    }
   ],
   "source": [
    "regions = ['na_sales','eu_sales','jp_sales']\n",
    "df_region = df_actually.pivot_table(index='platform',values=regions,aggfunc=('sum'))\n",
    "fig=plt.figure(figsize=(15,12))\n",
    "fig.suptitle('Доли продаж платформ по регионам',fontsize=18)\n",
    "i=1;\n",
    "for region in (regions):\n",
    "    ax=fig.add_subplot(1,3,i)\n",
    "    if(region==regions[0]):\n",
    "        name='Северная Америка'\n",
    "    elif(region==regions[1]):\n",
    "        name='Европа'\n",
    "    else: \n",
    "        name='Япония'\n",
    "    df_region[region].plot(kind='pie', autopct='%.0f%%',figsize=(19,7),title=name,ax=ax,ylabel='')\n",
    "    df_region['%_total_sales_'+region] = round(df_region[region]/df_region[region].sum()*100,0)\n",
    "    i+=1"
   ]
  },
  {
   "cell_type": "code",
   "execution_count": 28,
   "id": "83328dc0",
   "metadata": {},
   "outputs": [
    {
     "data": {
      "text/html": [
       "<div>\n",
       "<style scoped>\n",
       "    .dataframe tbody tr th:only-of-type {\n",
       "        vertical-align: middle;\n",
       "    }\n",
       "\n",
       "    .dataframe tbody tr th {\n",
       "        vertical-align: top;\n",
       "    }\n",
       "\n",
       "    .dataframe thead th {\n",
       "        text-align: right;\n",
       "    }\n",
       "</style>\n",
       "<table border=\"1\" class=\"dataframe\">\n",
       "  <thead>\n",
       "    <tr style=\"text-align: right;\">\n",
       "      <th>platform</th>\n",
       "      <th>3DS</th>\n",
       "      <th>PC</th>\n",
       "      <th>PS3</th>\n",
       "      <th>PS4</th>\n",
       "      <th>PSV</th>\n",
       "      <th>WiiU</th>\n",
       "      <th>X360</th>\n",
       "      <th>XOne</th>\n",
       "    </tr>\n",
       "  </thead>\n",
       "  <tbody>\n",
       "    <tr>\n",
       "      <th>na_sales</th>\n",
       "      <td>8.0</td>\n",
       "      <td>0.0</td>\n",
       "      <td>8.0</td>\n",
       "      <td>35.0</td>\n",
       "      <td>0.0</td>\n",
       "      <td>0.0</td>\n",
       "      <td>10.0</td>\n",
       "      <td>29.0</td>\n",
       "    </tr>\n",
       "    <tr>\n",
       "      <th>eu_sales</th>\n",
       "      <td>6.0</td>\n",
       "      <td>7.0</td>\n",
       "      <td>9.0</td>\n",
       "      <td>48.0</td>\n",
       "      <td>0.0</td>\n",
       "      <td>0.0</td>\n",
       "      <td>0.0</td>\n",
       "      <td>17.0</td>\n",
       "    </tr>\n",
       "    <tr>\n",
       "      <th>jp_sales</th>\n",
       "      <td>48.0</td>\n",
       "      <td>0.0</td>\n",
       "      <td>12.0</td>\n",
       "      <td>16.0</td>\n",
       "      <td>16.0</td>\n",
       "      <td>8.0</td>\n",
       "      <td>0.0</td>\n",
       "      <td>0.0</td>\n",
       "    </tr>\n",
       "  </tbody>\n",
       "</table>\n",
       "</div>"
      ],
      "text/plain": [
       "platform   3DS   PC   PS3   PS4   PSV  WiiU  X360  XOne\n",
       "na_sales   8.0  0.0   8.0  35.0   0.0   0.0  10.0  29.0\n",
       "eu_sales   6.0  7.0   9.0  48.0   0.0   0.0   0.0  17.0\n",
       "jp_sales  48.0  0.0  12.0  16.0  16.0   8.0   0.0   0.0"
      ]
     },
     "execution_count": 28,
     "metadata": {},
     "output_type": "execute_result"
    }
   ],
   "source": [
    "region_top = pd.DataFrame(\n",
    "    {region : df_region.sort_values(by=region,ascending=False).index[:5].array for region in regions}\n",
    ")\n",
    "region_percentage = pd.DataFrame(\n",
    "    {region : df_region.sort_values(by=region,ascending=False)['%_total_sales_'+region][:5] for region in regions}\n",
    ")\n",
    "region_top.index = [i+1 for i in range(5)] # индекс имееет значение в топе для региона\n",
    "region_percentage.fillna(0,inplace=True)\n",
    "region_percentage = region_percentage.T\n",
    "region_percentage"
   ]
  },
  {
   "cell_type": "code",
   "execution_count": 29,
   "id": "49aa2a0d",
   "metadata": {},
   "outputs": [
    {
     "data": {
      "text/html": [
       "<div>\n",
       "<style scoped>\n",
       "    .dataframe tbody tr th:only-of-type {\n",
       "        vertical-align: middle;\n",
       "    }\n",
       "\n",
       "    .dataframe tbody tr th {\n",
       "        vertical-align: top;\n",
       "    }\n",
       "\n",
       "    .dataframe thead th {\n",
       "        text-align: right;\n",
       "    }\n",
       "</style>\n",
       "<table border=\"1\" class=\"dataframe\">\n",
       "  <thead>\n",
       "    <tr style=\"text-align: right;\">\n",
       "      <th></th>\n",
       "      <th>1</th>\n",
       "      <th>2</th>\n",
       "      <th>3</th>\n",
       "      <th>4</th>\n",
       "      <th>5</th>\n",
       "    </tr>\n",
       "  </thead>\n",
       "  <tbody>\n",
       "    <tr>\n",
       "      <th>na_sales</th>\n",
       "      <td>PS4</td>\n",
       "      <td>XOne</td>\n",
       "      <td>X360</td>\n",
       "      <td>3DS</td>\n",
       "      <td>PS3</td>\n",
       "    </tr>\n",
       "    <tr>\n",
       "      <th>eu_sales</th>\n",
       "      <td>PS4</td>\n",
       "      <td>XOne</td>\n",
       "      <td>PS3</td>\n",
       "      <td>PC</td>\n",
       "      <td>3DS</td>\n",
       "    </tr>\n",
       "    <tr>\n",
       "      <th>jp_sales</th>\n",
       "      <td>3DS</td>\n",
       "      <td>PS4</td>\n",
       "      <td>PSV</td>\n",
       "      <td>PS3</td>\n",
       "      <td>WiiU</td>\n",
       "    </tr>\n",
       "  </tbody>\n",
       "</table>\n",
       "</div>"
      ],
      "text/plain": [
       "            1     2     3    4     5\n",
       "na_sales  PS4  XOne  X360  3DS   PS3\n",
       "eu_sales  PS4  XOne   PS3   PC   3DS\n",
       "jp_sales  3DS   PS4   PSV  PS3  WiiU"
      ]
     },
     "execution_count": 29,
     "metadata": {},
     "output_type": "execute_result"
    }
   ],
   "source": [
    "region_top = region_top .T\n",
    "region_top"
   ]
  },
  {
   "cell_type": "code",
   "execution_count": 30,
   "id": "77016627",
   "metadata": {},
   "outputs": [
    {
     "data": {
      "text/html": [
       "<div>\n",
       "<style scoped>\n",
       "    .dataframe tbody tr th:only-of-type {\n",
       "        vertical-align: middle;\n",
       "    }\n",
       "\n",
       "    .dataframe tbody tr th {\n",
       "        vertical-align: top;\n",
       "    }\n",
       "\n",
       "    .dataframe thead th {\n",
       "        text-align: right;\n",
       "    }\n",
       "</style>\n",
       "<table border=\"1\" class=\"dataframe\">\n",
       "  <thead>\n",
       "    <tr style=\"text-align: right;\">\n",
       "      <th></th>\n",
       "      <th>1</th>\n",
       "      <th>2</th>\n",
       "      <th>3</th>\n",
       "      <th>4</th>\n",
       "      <th>5</th>\n",
       "      <th>3DS</th>\n",
       "      <th>PC</th>\n",
       "      <th>PS3</th>\n",
       "      <th>PS4</th>\n",
       "      <th>PSV</th>\n",
       "      <th>WiiU</th>\n",
       "      <th>X360</th>\n",
       "      <th>XOne</th>\n",
       "    </tr>\n",
       "  </thead>\n",
       "  <tbody>\n",
       "    <tr>\n",
       "      <th>na_sales</th>\n",
       "      <td>PS4</td>\n",
       "      <td>XOne</td>\n",
       "      <td>X360</td>\n",
       "      <td>3DS</td>\n",
       "      <td>PS3</td>\n",
       "      <td>8.0</td>\n",
       "      <td>0.0</td>\n",
       "      <td>8.0</td>\n",
       "      <td>35.0</td>\n",
       "      <td>0.0</td>\n",
       "      <td>0.0</td>\n",
       "      <td>10.0</td>\n",
       "      <td>29.0</td>\n",
       "    </tr>\n",
       "    <tr>\n",
       "      <th>eu_sales</th>\n",
       "      <td>PS4</td>\n",
       "      <td>XOne</td>\n",
       "      <td>PS3</td>\n",
       "      <td>PC</td>\n",
       "      <td>3DS</td>\n",
       "      <td>6.0</td>\n",
       "      <td>7.0</td>\n",
       "      <td>9.0</td>\n",
       "      <td>48.0</td>\n",
       "      <td>0.0</td>\n",
       "      <td>0.0</td>\n",
       "      <td>0.0</td>\n",
       "      <td>17.0</td>\n",
       "    </tr>\n",
       "    <tr>\n",
       "      <th>jp_sales</th>\n",
       "      <td>3DS</td>\n",
       "      <td>PS4</td>\n",
       "      <td>PSV</td>\n",
       "      <td>PS3</td>\n",
       "      <td>WiiU</td>\n",
       "      <td>48.0</td>\n",
       "      <td>0.0</td>\n",
       "      <td>12.0</td>\n",
       "      <td>16.0</td>\n",
       "      <td>16.0</td>\n",
       "      <td>8.0</td>\n",
       "      <td>0.0</td>\n",
       "      <td>0.0</td>\n",
       "    </tr>\n",
       "  </tbody>\n",
       "</table>\n",
       "</div>"
      ],
      "text/plain": [
       "            1     2     3    4     5   3DS   PC   PS3   PS4   PSV  WiiU  X360  \\\n",
       "na_sales  PS4  XOne  X360  3DS   PS3   8.0  0.0   8.0  35.0   0.0   0.0  10.0   \n",
       "eu_sales  PS4  XOne   PS3   PC   3DS   6.0  7.0   9.0  48.0   0.0   0.0   0.0   \n",
       "jp_sales  3DS   PS4   PSV  PS3  WiiU  48.0  0.0  12.0  16.0  16.0   8.0   0.0   \n",
       "\n",
       "          XOne  \n",
       "na_sales  29.0  \n",
       "eu_sales  17.0  \n",
       "jp_sales   0.0  "
      ]
     },
     "execution_count": 30,
     "metadata": {},
     "output_type": "execute_result"
    }
   ],
   "source": [
    "region_info = region_top.join(region_percentage)\n",
    "region_info"
   ]
  },
  {
   "cell_type": "markdown",
   "id": "5ee3075a",
   "metadata": {},
   "source": [
    "**Из конечной таблицы очевидно, что по регионам в период 2007-2016 год, самыми популярными платформами были:**\n",
    "* В Северной Америке - **PS4**\n",
    "* В Европе - **PS4**\n",
    "* В Японии - **3DS**  \n",
    "_______________________________\n",
    "Также стоит пояснить, что нули существующие в таблице - не абсолютные, то есть на самом деле у этих платформ есть какая-то доля в этом регионе, но 0 обозначает, что платформа не входит в топ 5 продажам для этого региона.  \n",
    "* Поэтому инетерсным образом можно заключить, что PSP и 3DS платформы являются особенными для японского рынка, что являются единственными платформами входящими в  топ 5, какого либо региона. \n",
    "* Помимо этого в Японии мало общего в любимых платформах для Европы и Сев. Америки - PS4 и X360 также не входит в их топ покупок.  \n",
    "* В Северной Америке и Европе выбор платформ остается одинаковым, но ранжируется их порядок в этом самом топе, то есть между их платформами в топе - нет различий."
   ]
  },
  {
   "cell_type": "markdown",
   "id": "541fdd21",
   "metadata": {},
   "source": [
    "### Топ  - 5 жанров игр по регионам."
   ]
  },
  {
   "cell_type": "code",
   "execution_count": 31,
   "id": "97a2ea83",
   "metadata": {},
   "outputs": [
    {
     "data": {
      "image/png": "[encoded data removed]",
      "text/plain": [
       "<Figure size 1440x576 with 3 Axes>"
      ]
     },
     "metadata": {},
     "output_type": "display_data"
    }
   ],
   "source": [
    "df_region_genre = df_actually.pivot_table(index='genre',values=regions,aggfunc=('sum'))\n",
    "fig=plt.figure(figsize=(18,16))\n",
    "fig.suptitle('Доли жанров игр по регионам',fontsize=18)\n",
    "i=1;\n",
    "for region in regions:\n",
    "    ax=fig.add_subplot(1,3,i)\n",
    "    if(region==regions[0]):\n",
    "        name='Северная Америка'\n",
    "    elif(region==regions[1]):\n",
    "        name='Европа'\n",
    "    else: \n",
    "        name='Япония'\n",
    "    df_region_genre[region].plot(kind='pie', autopct='%.0f%%',figsize=(20,8),title=name,ax=ax,ylabel='')\n",
    "    i+=1"
   ]
  },
  {
   "cell_type": "code",
   "execution_count": 32,
   "id": "06f26845",
   "metadata": {},
   "outputs": [
    {
     "data": {
      "text/html": [
       "<div>\n",
       "<style scoped>\n",
       "    .dataframe tbody tr th:only-of-type {\n",
       "        vertical-align: middle;\n",
       "    }\n",
       "\n",
       "    .dataframe tbody tr th {\n",
       "        vertical-align: top;\n",
       "    }\n",
       "\n",
       "    .dataframe thead th {\n",
       "        text-align: right;\n",
       "    }\n",
       "</style>\n",
       "<table border=\"1\" class=\"dataframe\">\n",
       "  <thead>\n",
       "    <tr style=\"text-align: right;\">\n",
       "      <th></th>\n",
       "      <th>na_sales</th>\n",
       "      <th>eu_sales</th>\n",
       "      <th>jp_sales</th>\n",
       "    </tr>\n",
       "  </thead>\n",
       "  <tbody>\n",
       "    <tr>\n",
       "      <th>1</th>\n",
       "      <td>Shooter</td>\n",
       "      <td>Action</td>\n",
       "      <td>Role-Playing</td>\n",
       "    </tr>\n",
       "    <tr>\n",
       "      <th>2</th>\n",
       "      <td>Action</td>\n",
       "      <td>Shooter</td>\n",
       "      <td>Action</td>\n",
       "    </tr>\n",
       "    <tr>\n",
       "      <th>3</th>\n",
       "      <td>Sports</td>\n",
       "      <td>Sports</td>\n",
       "      <td>Fighting</td>\n",
       "    </tr>\n",
       "    <tr>\n",
       "      <th>4</th>\n",
       "      <td>Role-Playing</td>\n",
       "      <td>Role-Playing</td>\n",
       "      <td>Misc</td>\n",
       "    </tr>\n",
       "    <tr>\n",
       "      <th>5</th>\n",
       "      <td>Misc</td>\n",
       "      <td>Racing</td>\n",
       "      <td>Shooter</td>\n",
       "    </tr>\n",
       "  </tbody>\n",
       "</table>\n",
       "</div>"
      ],
      "text/plain": [
       "       na_sales      eu_sales      jp_sales\n",
       "1       Shooter        Action  Role-Playing\n",
       "2        Action       Shooter        Action\n",
       "3        Sports        Sports      Fighting\n",
       "4  Role-Playing  Role-Playing          Misc\n",
       "5          Misc        Racing       Shooter"
      ]
     },
     "execution_count": 32,
     "metadata": {},
     "output_type": "execute_result"
    }
   ],
   "source": [
    "region_top_genre = pd.DataFrame(\n",
    "    {region : df_region_genre.sort_values(by=region,ascending=False).index[:5].array for region in regions}\n",
    ")\n",
    "region_top_genre.index = [i+1 for i in range(5)]\n",
    "region_top_genre"
   ]
  },
  {
   "cell_type": "markdown",
   "id": "bc0fdab0",
   "metadata": {},
   "source": [
    "В топе популярных жанров по регионам разницы между Северной Америкой и Европой не наблюдается, даже если посмотреть Role-Playing на круговой диаграмме для Европы то он составляет практически такую же долю, как и Racing, с точностью до целых процентов. \n",
    "В Японии кардинально другие предпочтения в жанрах."
   ]
  },
  {
   "cell_type": "markdown",
   "id": "f1455869",
   "metadata": {},
   "source": [
    "**Влияет ли рейтинг ESRB на продажи в отдельном регионе?**"
   ]
  },
  {
   "cell_type": "code",
   "execution_count": 33,
   "id": "d53f65d0",
   "metadata": {},
   "outputs": [
    {
     "data": {
      "image/png": "[encoded data removed]",
      "text/plain": [
       "<Figure size 432x144 with 1 Axes>"
      ]
     },
     "metadata": {
      "needs_background": "light"
     },
     "output_type": "display_data"
    },
    {
     "data": {
      "image/png": "[encoded data removed]",
      "text/plain": [
       "<Figure size 432x144 with 1 Axes>"
      ]
     },
     "metadata": {
      "needs_background": "light"
     },
     "output_type": "display_data"
    },
    {
     "data": {
      "image/png": "[encoded data removed]",
      "text/plain": [
       "<Figure size 432x144 with 1 Axes>"
      ]
     },
     "metadata": {
      "needs_background": "light"
     },
     "output_type": "display_data"
    }
   ],
   "source": [
    "for region in regions:\n",
    "    df_rate = df_actually.pivot_table(index='rating',values=region,aggfunc='sum').plot(kind='line',grid=True,figsize=(6,2))"
   ]
  },
  {
   "cell_type": "markdown",
   "id": "16dfdddb",
   "metadata": {},
   "source": [
    "Сначала рассмотрим Северную Америку и Европу. Можно представить, что по горизонтали с каждой следующей категорией увеличивается возрастной рейтинг, кроме категории ND - которая не описывает, к какой категории относятся проданные копии игр.\n",
    "В таком случае, чем выше возрастной рейтинг, тем меньшее число копий можно ожидать продать.  \n",
    "По Японии очень много ND - должно быть это связано с **CERO** (Computer Entertainment Rating Organization), которая устанавливает возрастной рейтинг в своих категориях. А данные, что нам известны, это игры, созданные и выпущенные сначала на не японской территории. Но даже без этого факта в Японии наблюдается такая же зависимость, как и в Америке с Европой."
   ]
  },
  {
   "cell_type": "markdown",
   "id": "a6907905",
   "metadata": {},
   "source": [
    "# Проверка гипотез"
   ]
  },
  {
   "cell_type": "markdown",
   "id": "007d1809",
   "metadata": {},
   "source": [
    "**1. Средние пользовательские рейтинги платформ Xbox One и PC одинаковые.**\n",
    "* Нулевая гипотеза: Средний пользовательский рейтинг Xbox One совпадает со среднем пользовательским рейтингом PC\n",
    "* Альтернативная гипотеза: Средний пользовательский рейтинг *НЕ* совпадает со среднем пользовательским рейтингом PC\n",
    "______________________\n",
    "Поскольку гипотеза сформулирована о проверке среднего 2 генеральных совокупностей, то мы будем использовать критерий Стьюдента или так называемый t-тест.  \n",
    "Примем критический уровень статистической значимости - 0.05."
   ]
  },
  {
   "cell_type": "code",
   "execution_count": 34,
   "id": "1185b9af",
   "metadata": {},
   "outputs": [
    {
     "name": "stdout",
     "output_type": "stream",
     "text": [
      "p-value: 0.11601398086668832\n",
      "Нулевую гипотезу не получилось отвергнуть\n"
     ]
    }
   ],
   "source": [
    "from scipy import stats as st\n",
    "import numpy as np\n",
    "alpha=0.05\n",
    "df_xone = df_actually[df_actually['user_score'].notna()].query('platform == \"XOne\"')['user_score']#ОЧИСТИМ ОТ NAN, ТАК КАК Т-ТЕСТ ЧУВСТВИТЕЛЕН \n",
    "df_pc = df_actually[df_actually['user_score'].notna()].query('platform == \"PC\"')['user_score'] #КПРОПУСКОМ\n",
    "results = st.ttest_ind(df_xone,\n",
    "                       df_pc,\n",
    "                      equal_var=False) # у выборок должна быть разная дисперсия\n",
    "print('p-value:',results.pvalue)\n",
    "if (results.pvalue < alpha):\n",
    "    print('Отвергаем нулевую гипотезу')\n",
    "else:\n",
    "    print('Нулевую гипотезу не получилось отвергнуть')\n",
    "\n"
   ]
  },
  {
   "cell_type": "markdown",
   "id": "4ba4ad78",
   "metadata": {},
   "source": [
    "**Вывод:** средние пользовательские оценки у Xbox One и PC - разные."
   ]
  },
  {
   "cell_type": "markdown",
   "id": "0b09709b",
   "metadata": {},
   "source": [
    "2. **Средние пользовательские рейтинги жанров Action (англ. «действие», экшен-игры) и Sports (англ. «спортивные соревнования») разные.**\n",
    "* Нулевая гипотеза: Средние пользовательские рейтинги жанров Action и Sports - равны \n",
    "* Альтернативная гипотеза: Средние пользовательские рейтинги жанров Action и Sports - разные\n",
    "______________________\n",
    "Поскольку гипотеза сформулирована о проверке среднего 2 генеральных совокупностей, то мы будем использовать критерий Стьюдента или так называемый t-тест.  \n",
    "Примем критический уровень статистической значимости - 0.05."
   ]
  },
  {
   "cell_type": "code",
   "execution_count": 35,
   "id": "4da1021e",
   "metadata": {},
   "outputs": [
    {
     "name": "stdout",
     "output_type": "stream",
     "text": [
      "p-value: 1.1825550382644557e-14\n",
      "Отвергаем нулевую гипотезу\n"
     ]
    }
   ],
   "source": [
    "alpha=0.05\n",
    "df_action = df_actually[df_actually['user_score'].notna()].query('genre == \"Action\"')['user_score']#ОЧИСТИМ ОТ NAN, ТАК КАК Т-ТЕСТ ЧУВСТВИТЕЛЕН \n",
    "df_sports = df_actually[df_actually['user_score'].notna()].query('genre == \"Sports\"')['user_score'] #КПРОПУСКОМ\n",
    "results = st.ttest_ind(df_action,\n",
    "                       df_sports,\n",
    "                      equal_var=False) # у выборок должна быть разная дисперсия\n",
    "print('p-value:',results.pvalue)\n",
    "if (results.pvalue < alpha):\n",
    "    print('Отвергаем нулевую гипотезу')\n",
    "else:\n",
    "    print('Нулевую гипотезу не получилось отвергнуть')\n",
    "    "
   ]
  },
  {
   "cell_type": "markdown",
   "id": "80256172",
   "metadata": {},
   "source": [
    "**Вывод:** Да, действительно, средние пользовательских рейтинги этих жанров - разные."
   ]
  },
  {
   "cell_type": "markdown",
   "id": "6d61ab45",
   "metadata": {},
   "source": [
    "# Общий вывод\n",
    "1. В ходе работы были предобработаны данные - удалены пропуски, где это возможно, приведены типы данных, установлены заглушки в категориальных данных.\n",
    "2. Средняя жизнь платформы оказалось 9-10 лет.\n",
    "3. За актуальный период в данных был выбран период с 2014 по 2016 год.\n",
    "4.  PS4, XOne, PC, WiiU - самые перспективные платформы на 2017 год, по потенциальному объекму проданных копий\n",
    "5.  PS4 и XOne - платформы среди акутального периода, у которых самая высокая верхняя граница и медиана по числу проданных копий игр для какой либо игры\n",
    "6. Shooter - самый прибыльный жанр игр\n",
    "7. Пользователи Севереной Америки и Европы не отличаются в выборе платформы и жанров, в отличии от Японии, где абсолютно своя культура игр\n",
    "8. Чем меньше возрастной ценз, тем больше проданных копий окажется у игры"
   ]
  }
 ],
 "metadata": {
  "ExecuteTimeLog": [
   {
    "duration": 80,
    "start_time": "2022-11-08T18:24:09.750Z"
   },
   {
    "duration": 82,
    "start_time": "2022-11-08T18:25:04.244Z"
   },
   {
    "duration": 76,
    "start_time": "2022-11-08T18:33:23.566Z"
   },
   {
    "duration": 90,
    "start_time": "2022-11-08T18:37:16.972Z"
   }
  ],
  "kernelspec": {
   "display_name": "Python 3 (ipykernel)",
   "language": "python",
   "name": "python3"
  },
  "language_info": {
   "codemirror_mode": {
    "name": "ipython",
    "version": 3
   },
   "file_extension": ".py",
   "mimetype": "text/x-python",
   "name": "python",
   "nbconvert_exporter": "python",
   "pygments_lexer": "ipython3",
   "version": "3.9.7"
  },
  "toc": {
   "base_numbering": 1,
   "nav_menu": {},
   "number_sections": true,
   "sideBar": true,
   "skip_h1_title": true,
   "title_cell": "Table of Contents",
   "title_sidebar": "Contents",
   "toc_cell": false,
   "toc_position": {},
   "toc_section_display": true,
   "toc_window_display": false
  }
 },
 "nbformat": 4,
 "nbformat_minor": 5
}
