{
 "cells": [
  {
   "cell_type": "markdown",
   "id": "2828ec45",
   "metadata": {},
   "source": [
    "# Сборный проект 1"
   ]
  },
  {
   "cell_type": "markdown",
   "id": "1b9a2719",
   "metadata": {},
   "source": [
    "Из открытых источников доступны исторические данные о продажах игр, оценки пользователей и экспертов, жанры и платформы (например, Xbox или PlayStation). Вам нужно выявить определяющие успешность игры закономерности. Это позволит сделать ставку на потенциально популярный продукт и спланировать рекламные кампании."
   ]
  },
  {
   "cell_type": "markdown",
   "id": "f781240f",
   "metadata": {},
   "source": [
    "# Знакомство с данными"
   ]
  },
  {
   "cell_type": "code",
   "execution_count": 1,
   "id": "e32fe98d",
   "metadata": {},
   "outputs": [
    {
     "ename": "FileNotFoundError",
     "evalue": "[Errno 2] No such file or directory: 'datasets\\\\games.csv'",
     "output_type": "error",
     "traceback": [
      "\u001b[1;31m---------------------------------------------------------------------------\u001b[0m",
      "\u001b[1;31mFileNotFoundError\u001b[0m                         Traceback (most recent call last)",
      "\u001b[1;32m~\\AppData\\Local\\Temp/ipykernel_9200/2060985089.py\u001b[0m in \u001b[0;36m<module>\u001b[1;34m\u001b[0m\n\u001b[0;32m      2\u001b[0m \u001b[1;32mtry\u001b[0m\u001b[1;33m:\u001b[0m\u001b[1;33m\u001b[0m\u001b[1;33m\u001b[0m\u001b[0m\n\u001b[1;32m----> 3\u001b[1;33m     \u001b[0mdf\u001b[0m \u001b[1;33m=\u001b[0m \u001b[0mpd\u001b[0m\u001b[1;33m.\u001b[0m\u001b[0mread_csv\u001b[0m\u001b[1;33m(\u001b[0m\u001b[1;34m'datasets\\games.csv'\u001b[0m\u001b[1;33m)\u001b[0m\u001b[1;33m\u001b[0m\u001b[1;33m\u001b[0m\u001b[0m\n\u001b[0m\u001b[0;32m      4\u001b[0m \u001b[1;32mexcept\u001b[0m\u001b[1;33m:\u001b[0m\u001b[1;33m\u001b[0m\u001b[1;33m\u001b[0m\u001b[0m\n",
      "\u001b[1;32mD:\\Anaconda\\lib\\site-packages\\pandas\\util\\_decorators.py\u001b[0m in \u001b[0;36mwrapper\u001b[1;34m(*args, **kwargs)\u001b[0m\n\u001b[0;32m    310\u001b[0m                 )\n\u001b[1;32m--> 311\u001b[1;33m             \u001b[1;32mreturn\u001b[0m \u001b[0mfunc\u001b[0m\u001b[1;33m(\u001b[0m\u001b[1;33m*\u001b[0m\u001b[0margs\u001b[0m\u001b[1;33m,\u001b[0m \u001b[1;33m**\u001b[0m\u001b[0mkwargs\u001b[0m\u001b[1;33m)\u001b[0m\u001b[1;33m\u001b[0m\u001b[1;33m\u001b[0m\u001b[0m\n\u001b[0m\u001b[0;32m    312\u001b[0m \u001b[1;33m\u001b[0m\u001b[0m\n",
      "\u001b[1;32mD:\\Anaconda\\lib\\site-packages\\pandas\\io\\parsers\\readers.py\u001b[0m in \u001b[0;36mread_csv\u001b[1;34m(filepath_or_buffer, sep, delimiter, header, names, index_col, usecols, squeeze, prefix, mangle_dupe_cols, dtype, engine, converters, true_values, false_values, skipinitialspace, skiprows, skipfooter, nrows, na_values, keep_default_na, na_filter, verbose, skip_blank_lines, parse_dates, infer_datetime_format, keep_date_col, date_parser, dayfirst, cache_dates, iterator, chunksize, compression, thousands, decimal, lineterminator, quotechar, quoting, doublequote, escapechar, comment, encoding, encoding_errors, dialect, error_bad_lines, warn_bad_lines, on_bad_lines, delim_whitespace, low_memory, memory_map, float_precision, storage_options)\u001b[0m\n\u001b[0;32m    585\u001b[0m \u001b[1;33m\u001b[0m\u001b[0m\n\u001b[1;32m--> 586\u001b[1;33m     \u001b[1;32mreturn\u001b[0m \u001b[0m_read\u001b[0m\u001b[1;33m(\u001b[0m\u001b[0mfilepath_or_buffer\u001b[0m\u001b[1;33m,\u001b[0m \u001b[0mkwds\u001b[0m\u001b[1;33m)\u001b[0m\u001b[1;33m\u001b[0m\u001b[1;33m\u001b[0m\u001b[0m\n\u001b[0m\u001b[0;32m    587\u001b[0m \u001b[1;33m\u001b[0m\u001b[0m\n",
      "\u001b[1;32mD:\\Anaconda\\lib\\site-packages\\pandas\\io\\parsers\\readers.py\u001b[0m in \u001b[0;36m_read\u001b[1;34m(filepath_or_buffer, kwds)\u001b[0m\n\u001b[0;32m    481\u001b[0m     \u001b[1;31m# Create the parser.\u001b[0m\u001b[1;33m\u001b[0m\u001b[1;33m\u001b[0m\u001b[0m\n\u001b[1;32m--> 482\u001b[1;33m     \u001b[0mparser\u001b[0m \u001b[1;33m=\u001b[0m \u001b[0mTextFileReader\u001b[0m\u001b[1;33m(\u001b[0m\u001b[0mfilepath_or_buffer\u001b[0m\u001b[1;33m,\u001b[0m \u001b[1;33m**\u001b[0m\u001b[0mkwds\u001b[0m\u001b[1;33m)\u001b[0m\u001b[1;33m\u001b[0m\u001b[1;33m\u001b[0m\u001b[0m\n\u001b[0m\u001b[0;32m    483\u001b[0m \u001b[1;33m\u001b[0m\u001b[0m\n",
      "\u001b[1;32mD:\\Anaconda\\lib\\site-packages\\pandas\\io\\parsers\\readers.py\u001b[0m in \u001b[0;36m__init__\u001b[1;34m(self, f, engine, **kwds)\u001b[0m\n\u001b[0;32m    810\u001b[0m \u001b[1;33m\u001b[0m\u001b[0m\n\u001b[1;32m--> 811\u001b[1;33m         \u001b[0mself\u001b[0m\u001b[1;33m.\u001b[0m\u001b[0m_engine\u001b[0m \u001b[1;33m=\u001b[0m \u001b[0mself\u001b[0m\u001b[1;33m.\u001b[0m\u001b[0m_make_engine\u001b[0m\u001b[1;33m(\u001b[0m\u001b[0mself\u001b[0m\u001b[1;33m.\u001b[0m\u001b[0mengine\u001b[0m\u001b[1;33m)\u001b[0m\u001b[1;33m\u001b[0m\u001b[1;33m\u001b[0m\u001b[0m\n\u001b[0m\u001b[0;32m    812\u001b[0m \u001b[1;33m\u001b[0m\u001b[0m\n",
      "\u001b[1;32mD:\\Anaconda\\lib\\site-packages\\pandas\\io\\parsers\\readers.py\u001b[0m in \u001b[0;36m_make_engine\u001b[1;34m(self, engine)\u001b[0m\n\u001b[0;32m   1039\u001b[0m         \u001b[1;31m# error: Too many arguments for \"ParserBase\"\u001b[0m\u001b[1;33m\u001b[0m\u001b[1;33m\u001b[0m\u001b[0m\n\u001b[1;32m-> 1040\u001b[1;33m         \u001b[1;32mreturn\u001b[0m \u001b[0mmapping\u001b[0m\u001b[1;33m[\u001b[0m\u001b[0mengine\u001b[0m\u001b[1;33m]\u001b[0m\u001b[1;33m(\u001b[0m\u001b[0mself\u001b[0m\u001b[1;33m.\u001b[0m\u001b[0mf\u001b[0m\u001b[1;33m,\u001b[0m \u001b[1;33m**\u001b[0m\u001b[0mself\u001b[0m\u001b[1;33m.\u001b[0m\u001b[0moptions\u001b[0m\u001b[1;33m)\u001b[0m  \u001b[1;31m# type: ignore[call-arg]\u001b[0m\u001b[1;33m\u001b[0m\u001b[1;33m\u001b[0m\u001b[0m\n\u001b[0m\u001b[0;32m   1041\u001b[0m \u001b[1;33m\u001b[0m\u001b[0m\n",
      "\u001b[1;32mD:\\Anaconda\\lib\\site-packages\\pandas\\io\\parsers\\c_parser_wrapper.py\u001b[0m in \u001b[0;36m__init__\u001b[1;34m(self, src, **kwds)\u001b[0m\n\u001b[0;32m     50\u001b[0m         \u001b[1;31m# open handles\u001b[0m\u001b[1;33m\u001b[0m\u001b[1;33m\u001b[0m\u001b[0m\n\u001b[1;32m---> 51\u001b[1;33m         \u001b[0mself\u001b[0m\u001b[1;33m.\u001b[0m\u001b[0m_open_handles\u001b[0m\u001b[1;33m(\u001b[0m\u001b[0msrc\u001b[0m\u001b[1;33m,\u001b[0m \u001b[0mkwds\u001b[0m\u001b[1;33m)\u001b[0m\u001b[1;33m\u001b[0m\u001b[1;33m\u001b[0m\u001b[0m\n\u001b[0m\u001b[0;32m     52\u001b[0m         \u001b[1;32massert\u001b[0m \u001b[0mself\u001b[0m\u001b[1;33m.\u001b[0m\u001b[0mhandles\u001b[0m \u001b[1;32mis\u001b[0m \u001b[1;32mnot\u001b[0m \u001b[1;32mNone\u001b[0m\u001b[1;33m\u001b[0m\u001b[1;33m\u001b[0m\u001b[0m\n",
      "\u001b[1;32mD:\\Anaconda\\lib\\site-packages\\pandas\\io\\parsers\\base_parser.py\u001b[0m in \u001b[0;36m_open_handles\u001b[1;34m(self, src, kwds)\u001b[0m\n\u001b[0;32m    221\u001b[0m         \"\"\"\n\u001b[1;32m--> 222\u001b[1;33m         self.handles = get_handle(\n\u001b[0m\u001b[0;32m    223\u001b[0m             \u001b[0msrc\u001b[0m\u001b[1;33m,\u001b[0m\u001b[1;33m\u001b[0m\u001b[1;33m\u001b[0m\u001b[0m\n",
      "\u001b[1;32mD:\\Anaconda\\lib\\site-packages\\pandas\\io\\common.py\u001b[0m in \u001b[0;36mget_handle\u001b[1;34m(path_or_buf, mode, encoding, compression, memory_map, is_text, errors, storage_options)\u001b[0m\n\u001b[0;32m    701\u001b[0m             \u001b[1;31m# Encoding\u001b[0m\u001b[1;33m\u001b[0m\u001b[1;33m\u001b[0m\u001b[0m\n\u001b[1;32m--> 702\u001b[1;33m             handle = open(\n\u001b[0m\u001b[0;32m    703\u001b[0m                 \u001b[0mhandle\u001b[0m\u001b[1;33m,\u001b[0m\u001b[1;33m\u001b[0m\u001b[1;33m\u001b[0m\u001b[0m\n",
      "\u001b[1;31mFileNotFoundError\u001b[0m: [Errno 2] No such file or directory: 'datasets\\\\games.csv'",
      "\nDuring handling of the above exception, another exception occurred:\n",
      "\u001b[1;31mFileNotFoundError\u001b[0m                         Traceback (most recent call last)",
      "\u001b[1;32m~\\AppData\\Local\\Temp/ipykernel_9200/2060985089.py\u001b[0m in \u001b[0;36m<module>\u001b[1;34m\u001b[0m\n\u001b[0;32m      3\u001b[0m     \u001b[0mdf\u001b[0m \u001b[1;33m=\u001b[0m \u001b[0mpd\u001b[0m\u001b[1;33m.\u001b[0m\u001b[0mread_csv\u001b[0m\u001b[1;33m(\u001b[0m\u001b[1;34m'datasets\\games.csv'\u001b[0m\u001b[1;33m)\u001b[0m\u001b[1;33m\u001b[0m\u001b[1;33m\u001b[0m\u001b[0m\n\u001b[0;32m      4\u001b[0m \u001b[1;32mexcept\u001b[0m\u001b[1;33m:\u001b[0m\u001b[1;33m\u001b[0m\u001b[1;33m\u001b[0m\u001b[0m\n\u001b[1;32m----> 5\u001b[1;33m     \u001b[0mdf\u001b[0m \u001b[1;33m=\u001b[0m \u001b[0mpd\u001b[0m\u001b[1;33m.\u001b[0m\u001b[0mread_csv\u001b[0m\u001b[1;33m(\u001b[0m\u001b[1;34mr'datasets\\games.csv'\u001b[0m\u001b[1;33m)\u001b[0m\u001b[1;33m\u001b[0m\u001b[1;33m\u001b[0m\u001b[0m\n\u001b[0m",
      "\u001b[1;32mD:\\Anaconda\\lib\\site-packages\\pandas\\util\\_decorators.py\u001b[0m in \u001b[0;36mwrapper\u001b[1;34m(*args, **kwargs)\u001b[0m\n\u001b[0;32m    309\u001b[0m                     \u001b[0mstacklevel\u001b[0m\u001b[1;33m=\u001b[0m\u001b[0mstacklevel\u001b[0m\u001b[1;33m,\u001b[0m\u001b[1;33m\u001b[0m\u001b[1;33m\u001b[0m\u001b[0m\n\u001b[0;32m    310\u001b[0m                 )\n\u001b[1;32m--> 311\u001b[1;33m             \u001b[1;32mreturn\u001b[0m \u001b[0mfunc\u001b[0m\u001b[1;33m(\u001b[0m\u001b[1;33m*\u001b[0m\u001b[0margs\u001b[0m\u001b[1;33m,\u001b[0m \u001b[1;33m**\u001b[0m\u001b[0mkwargs\u001b[0m\u001b[1;33m)\u001b[0m\u001b[1;33m\u001b[0m\u001b[1;33m\u001b[0m\u001b[0m\n\u001b[0m\u001b[0;32m    312\u001b[0m \u001b[1;33m\u001b[0m\u001b[0m\n\u001b[0;32m    313\u001b[0m         \u001b[1;32mreturn\u001b[0m \u001b[0mwrapper\u001b[0m\u001b[1;33m\u001b[0m\u001b[1;33m\u001b[0m\u001b[0m\n",
      "\u001b[1;32mD:\\Anaconda\\lib\\site-packages\\pandas\\io\\parsers\\readers.py\u001b[0m in \u001b[0;36mread_csv\u001b[1;34m(filepath_or_buffer, sep, delimiter, header, names, index_col, usecols, squeeze, prefix, mangle_dupe_cols, dtype, engine, converters, true_values, false_values, skipinitialspace, skiprows, skipfooter, nrows, na_values, keep_default_na, na_filter, verbose, skip_blank_lines, parse_dates, infer_datetime_format, keep_date_col, date_parser, dayfirst, cache_dates, iterator, chunksize, compression, thousands, decimal, lineterminator, quotechar, quoting, doublequote, escapechar, comment, encoding, encoding_errors, dialect, error_bad_lines, warn_bad_lines, on_bad_lines, delim_whitespace, low_memory, memory_map, float_precision, storage_options)\u001b[0m\n\u001b[0;32m    584\u001b[0m     \u001b[0mkwds\u001b[0m\u001b[1;33m.\u001b[0m\u001b[0mupdate\u001b[0m\u001b[1;33m(\u001b[0m\u001b[0mkwds_defaults\u001b[0m\u001b[1;33m)\u001b[0m\u001b[1;33m\u001b[0m\u001b[1;33m\u001b[0m\u001b[0m\n\u001b[0;32m    585\u001b[0m \u001b[1;33m\u001b[0m\u001b[0m\n\u001b[1;32m--> 586\u001b[1;33m     \u001b[1;32mreturn\u001b[0m \u001b[0m_read\u001b[0m\u001b[1;33m(\u001b[0m\u001b[0mfilepath_or_buffer\u001b[0m\u001b[1;33m,\u001b[0m \u001b[0mkwds\u001b[0m\u001b[1;33m)\u001b[0m\u001b[1;33m\u001b[0m\u001b[1;33m\u001b[0m\u001b[0m\n\u001b[0m\u001b[0;32m    587\u001b[0m \u001b[1;33m\u001b[0m\u001b[0m\n\u001b[0;32m    588\u001b[0m \u001b[1;33m\u001b[0m\u001b[0m\n",
      "\u001b[1;32mD:\\Anaconda\\lib\\site-packages\\pandas\\io\\parsers\\readers.py\u001b[0m in \u001b[0;36m_read\u001b[1;34m(filepath_or_buffer, kwds)\u001b[0m\n\u001b[0;32m    480\u001b[0m \u001b[1;33m\u001b[0m\u001b[0m\n\u001b[0;32m    481\u001b[0m     \u001b[1;31m# Create the parser.\u001b[0m\u001b[1;33m\u001b[0m\u001b[1;33m\u001b[0m\u001b[0m\n\u001b[1;32m--> 482\u001b[1;33m     \u001b[0mparser\u001b[0m \u001b[1;33m=\u001b[0m \u001b[0mTextFileReader\u001b[0m\u001b[1;33m(\u001b[0m\u001b[0mfilepath_or_buffer\u001b[0m\u001b[1;33m,\u001b[0m \u001b[1;33m**\u001b[0m\u001b[0mkwds\u001b[0m\u001b[1;33m)\u001b[0m\u001b[1;33m\u001b[0m\u001b[1;33m\u001b[0m\u001b[0m\n\u001b[0m\u001b[0;32m    483\u001b[0m \u001b[1;33m\u001b[0m\u001b[0m\n\u001b[0;32m    484\u001b[0m     \u001b[1;32mif\u001b[0m \u001b[0mchunksize\u001b[0m \u001b[1;32mor\u001b[0m \u001b[0miterator\u001b[0m\u001b[1;33m:\u001b[0m\u001b[1;33m\u001b[0m\u001b[1;33m\u001b[0m\u001b[0m\n",
      "\u001b[1;32mD:\\Anaconda\\lib\\site-packages\\pandas\\io\\parsers\\readers.py\u001b[0m in \u001b[0;36m__init__\u001b[1;34m(self, f, engine, **kwds)\u001b[0m\n\u001b[0;32m    809\u001b[0m             \u001b[0mself\u001b[0m\u001b[1;33m.\u001b[0m\u001b[0moptions\u001b[0m\u001b[1;33m[\u001b[0m\u001b[1;34m\"has_index_names\"\u001b[0m\u001b[1;33m]\u001b[0m \u001b[1;33m=\u001b[0m \u001b[0mkwds\u001b[0m\u001b[1;33m[\u001b[0m\u001b[1;34m\"has_index_names\"\u001b[0m\u001b[1;33m]\u001b[0m\u001b[1;33m\u001b[0m\u001b[1;33m\u001b[0m\u001b[0m\n\u001b[0;32m    810\u001b[0m \u001b[1;33m\u001b[0m\u001b[0m\n\u001b[1;32m--> 811\u001b[1;33m         \u001b[0mself\u001b[0m\u001b[1;33m.\u001b[0m\u001b[0m_engine\u001b[0m \u001b[1;33m=\u001b[0m \u001b[0mself\u001b[0m\u001b[1;33m.\u001b[0m\u001b[0m_make_engine\u001b[0m\u001b[1;33m(\u001b[0m\u001b[0mself\u001b[0m\u001b[1;33m.\u001b[0m\u001b[0mengine\u001b[0m\u001b[1;33m)\u001b[0m\u001b[1;33m\u001b[0m\u001b[1;33m\u001b[0m\u001b[0m\n\u001b[0m\u001b[0;32m    812\u001b[0m \u001b[1;33m\u001b[0m\u001b[0m\n\u001b[0;32m    813\u001b[0m     \u001b[1;32mdef\u001b[0m \u001b[0mclose\u001b[0m\u001b[1;33m(\u001b[0m\u001b[0mself\u001b[0m\u001b[1;33m)\u001b[0m\u001b[1;33m:\u001b[0m\u001b[1;33m\u001b[0m\u001b[1;33m\u001b[0m\u001b[0m\n",
      "\u001b[1;32mD:\\Anaconda\\lib\\site-packages\\pandas\\io\\parsers\\readers.py\u001b[0m in \u001b[0;36m_make_engine\u001b[1;34m(self, engine)\u001b[0m\n\u001b[0;32m   1038\u001b[0m             )\n\u001b[0;32m   1039\u001b[0m         \u001b[1;31m# error: Too many arguments for \"ParserBase\"\u001b[0m\u001b[1;33m\u001b[0m\u001b[1;33m\u001b[0m\u001b[0m\n\u001b[1;32m-> 1040\u001b[1;33m         \u001b[1;32mreturn\u001b[0m \u001b[0mmapping\u001b[0m\u001b[1;33m[\u001b[0m\u001b[0mengine\u001b[0m\u001b[1;33m]\u001b[0m\u001b[1;33m(\u001b[0m\u001b[0mself\u001b[0m\u001b[1;33m.\u001b[0m\u001b[0mf\u001b[0m\u001b[1;33m,\u001b[0m \u001b[1;33m**\u001b[0m\u001b[0mself\u001b[0m\u001b[1;33m.\u001b[0m\u001b[0moptions\u001b[0m\u001b[1;33m)\u001b[0m  \u001b[1;31m# type: ignore[call-arg]\u001b[0m\u001b[1;33m\u001b[0m\u001b[1;33m\u001b[0m\u001b[0m\n\u001b[0m\u001b[0;32m   1041\u001b[0m \u001b[1;33m\u001b[0m\u001b[0m\n\u001b[0;32m   1042\u001b[0m     \u001b[1;32mdef\u001b[0m \u001b[0m_failover_to_python\u001b[0m\u001b[1;33m(\u001b[0m\u001b[0mself\u001b[0m\u001b[1;33m)\u001b[0m\u001b[1;33m:\u001b[0m\u001b[1;33m\u001b[0m\u001b[1;33m\u001b[0m\u001b[0m\n",
      "\u001b[1;32mD:\\Anaconda\\lib\\site-packages\\pandas\\io\\parsers\\c_parser_wrapper.py\u001b[0m in \u001b[0;36m__init__\u001b[1;34m(self, src, **kwds)\u001b[0m\n\u001b[0;32m     49\u001b[0m \u001b[1;33m\u001b[0m\u001b[0m\n\u001b[0;32m     50\u001b[0m         \u001b[1;31m# open handles\u001b[0m\u001b[1;33m\u001b[0m\u001b[1;33m\u001b[0m\u001b[0m\n\u001b[1;32m---> 51\u001b[1;33m         \u001b[0mself\u001b[0m\u001b[1;33m.\u001b[0m\u001b[0m_open_handles\u001b[0m\u001b[1;33m(\u001b[0m\u001b[0msrc\u001b[0m\u001b[1;33m,\u001b[0m \u001b[0mkwds\u001b[0m\u001b[1;33m)\u001b[0m\u001b[1;33m\u001b[0m\u001b[1;33m\u001b[0m\u001b[0m\n\u001b[0m\u001b[0;32m     52\u001b[0m         \u001b[1;32massert\u001b[0m \u001b[0mself\u001b[0m\u001b[1;33m.\u001b[0m\u001b[0mhandles\u001b[0m \u001b[1;32mis\u001b[0m \u001b[1;32mnot\u001b[0m \u001b[1;32mNone\u001b[0m\u001b[1;33m\u001b[0m\u001b[1;33m\u001b[0m\u001b[0m\n\u001b[0;32m     53\u001b[0m \u001b[1;33m\u001b[0m\u001b[0m\n",
      "\u001b[1;32mD:\\Anaconda\\lib\\site-packages\\pandas\\io\\parsers\\base_parser.py\u001b[0m in \u001b[0;36m_open_handles\u001b[1;34m(self, src, kwds)\u001b[0m\n\u001b[0;32m    220\u001b[0m         \u001b[0mLet\u001b[0m \u001b[0mthe\u001b[0m \u001b[0mreaders\u001b[0m \u001b[0mopen\u001b[0m \u001b[0mIOHandles\u001b[0m \u001b[0mafter\u001b[0m \u001b[0mthey\u001b[0m \u001b[0mare\u001b[0m \u001b[0mdone\u001b[0m \u001b[1;32mwith\u001b[0m \u001b[0mtheir\u001b[0m \u001b[0mpotential\u001b[0m \u001b[0mraises\u001b[0m\u001b[1;33m.\u001b[0m\u001b[1;33m\u001b[0m\u001b[1;33m\u001b[0m\u001b[0m\n\u001b[0;32m    221\u001b[0m         \"\"\"\n\u001b[1;32m--> 222\u001b[1;33m         self.handles = get_handle(\n\u001b[0m\u001b[0;32m    223\u001b[0m             \u001b[0msrc\u001b[0m\u001b[1;33m,\u001b[0m\u001b[1;33m\u001b[0m\u001b[1;33m\u001b[0m\u001b[0m\n\u001b[0;32m    224\u001b[0m             \u001b[1;34m\"r\"\u001b[0m\u001b[1;33m,\u001b[0m\u001b[1;33m\u001b[0m\u001b[1;33m\u001b[0m\u001b[0m\n",
      "\u001b[1;32mD:\\Anaconda\\lib\\site-packages\\pandas\\io\\common.py\u001b[0m in \u001b[0;36mget_handle\u001b[1;34m(path_or_buf, mode, encoding, compression, memory_map, is_text, errors, storage_options)\u001b[0m\n\u001b[0;32m    700\u001b[0m         \u001b[1;32mif\u001b[0m \u001b[0mioargs\u001b[0m\u001b[1;33m.\u001b[0m\u001b[0mencoding\u001b[0m \u001b[1;32mand\u001b[0m \u001b[1;34m\"b\"\u001b[0m \u001b[1;32mnot\u001b[0m \u001b[1;32min\u001b[0m \u001b[0mioargs\u001b[0m\u001b[1;33m.\u001b[0m\u001b[0mmode\u001b[0m\u001b[1;33m:\u001b[0m\u001b[1;33m\u001b[0m\u001b[1;33m\u001b[0m\u001b[0m\n\u001b[0;32m    701\u001b[0m             \u001b[1;31m# Encoding\u001b[0m\u001b[1;33m\u001b[0m\u001b[1;33m\u001b[0m\u001b[0m\n\u001b[1;32m--> 702\u001b[1;33m             handle = open(\n\u001b[0m\u001b[0;32m    703\u001b[0m                 \u001b[0mhandle\u001b[0m\u001b[1;33m,\u001b[0m\u001b[1;33m\u001b[0m\u001b[1;33m\u001b[0m\u001b[0m\n\u001b[0;32m    704\u001b[0m                 \u001b[0mioargs\u001b[0m\u001b[1;33m.\u001b[0m\u001b[0mmode\u001b[0m\u001b[1;33m,\u001b[0m\u001b[1;33m\u001b[0m\u001b[1;33m\u001b[0m\u001b[0m\n",
      "\u001b[1;31mFileNotFoundError\u001b[0m: [Errno 2] No such file or directory: 'datasets\\\\games.csv'"
     ]
    }
   ],
   "source": [
    "import pandas as pd\n",
    "try:\n",
    "    df = pd.read_csv('datasets\\games.csv')\n",
    "except:\n",
    "    df = pd.read_csv(r'datasets\\games.csv')"
   ]
  },
  {
   "cell_type": "code",
   "execution_count": null,
   "id": "04ed5145",
   "metadata": {},
   "outputs": [],
   "source": [
    "df.head(10)"
   ]
  },
  {
   "cell_type": "code",
   "execution_count": null,
   "id": "0be549a2",
   "metadata": {},
   "outputs": [],
   "source": [
    "df.info()"
   ]
  },
  {
   "cell_type": "markdown",
   "id": "e9ed8165",
   "metadata": {},
   "source": [
    "### Описание данных"
   ]
  },
  {
   "cell_type": "markdown",
   "id": "68131ea6",
   "metadata": {},
   "source": [
    "Name — название игры  \n",
    "Platform — платформа  \n",
    "Year_of_Release — год выпуска  \n",
    "Genre — жанр игры  \n",
    "NA_sales — продажи в Северной Америке (миллионы проданных копий)  \n",
    "EU_sales — продажи в Европе (миллионы проданных копий)  \n",
    "JP_sales — продажи в Японии (миллионы проданных копий)  \n",
    "Other_sales — продажи в других странах (миллионы проданных копий)  \n",
    "Critic_Score — оценка критиков (максимум 100)  \n",
    "User_Score — оценка пользователей (максимум 10)  \n",
    "Rating — рейтинг от организации ESRB (англ. Entertainment Software Rating Board). Эта ассоциация определяет рейтинг компьютерных игр и присваивает им подходящую возрастную категорию"
   ]
  },
  {
   "cell_type": "markdown",
   "id": "bc140b70",
   "metadata": {},
   "source": [
    "<div class=\"alert-success\"> \n",
    "<b>Комментарий ревьюера 👍 </b>\n",
    "    \n",
    "Хорошо, что ты добавляешь описание данных - это упрощает понимание проекта для тех, кто с ним ознакамливается.</div>"
   ]
  },
  {
   "cell_type": "markdown",
   "id": "3c23afdc",
   "metadata": {},
   "source": [
    "## 1. Подготовка данных"
   ]
  },
  {
   "cell_type": "markdown",
   "id": "816b6514",
   "metadata": {},
   "source": [
    "<div class=\"alert-danger\"> \n",
    "<b>Комментарий ревьюера ❌</b> \n",
    "    \n",
    "Допиши в этом шаге, пожалуйста, некоторые объяснения возможных причин пропусков в анализируемых тобой строках. Это часть задания.\n",
    "    \n",
    "Также, проверь наличие дубликатов."
   ]
  },
  {
   "cell_type": "markdown",
   "id": "083240b8",
   "metadata": {},
   "source": [
    "### 1.1 Переименование столбцов"
   ]
  },
  {
   "cell_type": "code",
   "execution_count": null,
   "id": "60c844f4",
   "metadata": {},
   "outputs": [],
   "source": [
    "df.columns = df.columns.str.lower()"
   ]
  },
  {
   "cell_type": "markdown",
   "id": "527ab95e",
   "metadata": {},
   "source": [
    "<div class=\"alert-warning\"> \n",
    "<b>Комментарий ревьюера 💡</b> \n",
    "   \n",
    "Добавлю, что можно сделать это и без for: data.columns = data.columns.str.lower() </div>"
   ]
  },
  {
   "cell_type": "markdown",
   "id": "96803bba",
   "metadata": {},
   "source": [
    "###  1.2 Приведение типов"
   ]
  },
  {
   "cell_type": "markdown",
   "id": "bffd95c1",
   "metadata": {},
   "source": [
    "year_of_release - к типу datetime, чтобы можно было работать с данными, как со временем   \n",
    "user_score - к типу float, для выполнения арифмитических операций в дальнейшем "
   ]
  },
  {
   "cell_type": "code",
   "execution_count": null,
   "id": "3e33660a",
   "metadata": {},
   "outputs": [],
   "source": [
    "df['year_of_release'] = pd.to_datetime(df['year_of_release'],format='%Y')\n",
    "df.loc[df['user_score'] == 'tbd', 'user_score'] = float('nan') # tbd - на Nan\n",
    "df['user_score'] = df['user_score'].astype(float) \n",
    "df.info()"
   ]
  },
  {
   "cell_type": "markdown",
   "id": "39e11675",
   "metadata": {},
   "source": [
    "###  1.3 Замена дубликатов"
   ]
  },
  {
   "cell_type": "code",
   "execution_count": null,
   "id": "312f368e",
   "metadata": {},
   "outputs": [],
   "source": [
    "df.duplicated().sum()"
   ]
  },
  {
   "cell_type": "markdown",
   "id": "ce6244df",
   "metadata": {},
   "source": [
    "Явных дубликатов в выборке не оказалось."
   ]
  },
  {
   "cell_type": "code",
   "execution_count": null,
   "id": "cc9bf28c",
   "metadata": {},
   "outputs": [],
   "source": [
    "len(df['name'].str.lower().unique())\n",
    "print(df.groupby('name').count()['platform'].sum())"
   ]
  },
  {
   "cell_type": "markdown",
   "id": "cb5cf461",
   "metadata": {},
   "source": [
    "По имени дубликатов не оказалось также. Что если есть совпадения по платформе и имени?"
   ]
  },
  {
   "cell_type": "code",
   "execution_count": null,
   "id": "16dc2415",
   "metadata": {},
   "outputs": [],
   "source": [
    "df.duplicated(subset=['platform','name']).sum()\n",
    "df[df.duplicated(subset=['platform','name'],keep=False)].sort_values(by=['platform','name'])"
   ]
  },
  {
   "cell_type": "code",
   "execution_count": null,
   "id": "859c0eb4",
   "metadata": {},
   "outputs": [],
   "source": [
    "df = df.drop(index=[659,14244,16230,4127],axis=0)\n",
    "df.reset_index(drop=True,inplace=True)"
   ]
  },
  {
   "cell_type": "markdown",
   "id": "9394eed4",
   "metadata": {},
   "source": [
    "Действительно такие есть, но лишь два объекта под индексом 659,14244,16230,4127 - которые является не информативным из пары строк, поэтому его и удалим. Что касательно  Need for Speed: Most Wanted, то в таблице находятся переиздания на платформе за 2012 и 2005 год. "
   ]
  },
  {
   "cell_type": "code",
   "execution_count": null,
   "id": "3f5c4ec2",
   "metadata": {},
   "outputs": [],
   "source": [
    "df[df.duplicated(subset=['platform','name'],keep=False)].sort_values(by=['platform','name'])"
   ]
  },
  {
   "cell_type": "markdown",
   "id": "be00768a",
   "metadata": {},
   "source": [
    "По другим полям уже не может существовать неявных дубликатов, поэтому перейдем к обрабокте пропусков."
   ]
  },
  {
   "cell_type": "markdown",
   "id": "475eef25",
   "metadata": {},
   "source": [
    "### 1.4 Обработка пропусков"
   ]
  },
  {
   "cell_type": "code",
   "execution_count": null,
   "id": "74752024",
   "metadata": {
    "scrolled": true
   },
   "outputs": [],
   "source": [
    "df.isna().sum()"
   ]
  },
  {
   "cell_type": "code",
   "execution_count": null,
   "id": "0b2325dd",
   "metadata": {},
   "outputs": [],
   "source": [
    "names_isna = ['name','year_of_release','genre']\n",
    "for name in names_isna:\n",
    "    index=df[df[name].isna()].index\n",
    "    df = df.drop(index).reset_index(drop=True)"
   ]
  },
  {
   "cell_type": "markdown",
   "id": "7aa08cb4",
   "metadata": {},
   "source": [
    "Пропуски, которые сложно восстановить\n",
    "* **critic_score**,**user_score** - много пропусков одновременно нет, так как мб не было площадок, где люди могли бы оставлять отзывы об играх, либо же эти самые игры не были размещены на каком-нибудь форуме - в зависимости от года выпуска игры\n",
    "* **rating** - пропуски могут быть из-за того, что возрастной рейтинг ставился в другой системе, которая не соотносится с ESRB, либо системы оценки игры раньше до какого-то года не могло быть, поэтому им не был присужден рейтинг  \n",
    "Сами по себе пропуски не восстановимы из данных, что имеются, поэтому оставим их, держа в голове, что там они есть."
   ]
  },
  {
   "cell_type": "code",
   "execution_count": null,
   "id": "b0d0f93b",
   "metadata": {
    "scrolled": true
   },
   "outputs": [],
   "source": [
    "df['rating'].fillna('ND',inplace=True) # ND - not defiened - не определен\n",
    "df.isna().sum()"
   ]
  },
  {
   "cell_type": "markdown",
   "id": "f803224b",
   "metadata": {},
   "source": [
    "ND вместо Nan - как заглушка на категориальные данные"
   ]
  },
  {
   "cell_type": "markdown",
   "id": "1475b89b",
   "metadata": {},
   "source": [
    "<div class=\"alert-success\"> \n",
    "<b>Комментарий ревьюера 👍 </b>\n",
    "\n",
    "Хорошо, что ты заменяешь эти пропуски, это поможет в конце при построении \"потрета пользователя\" в зависимости от региона."
   ]
  },
  {
   "cell_type": "markdown",
   "id": "2be54258",
   "metadata": {},
   "source": [
    "### 1.5 Обработка данных"
   ]
  },
  {
   "cell_type": "code",
   "execution_count": null,
   "id": "31ee01b5",
   "metadata": {},
   "outputs": [],
   "source": [
    "df['total_sales'] = df[['na_sales','eu_sales','jp_sales', 'other_sales']].sum(axis = 1)\n",
    "df.head()"
   ]
  },
  {
   "cell_type": "markdown",
   "id": "f4c2f8b7",
   "metadata": {},
   "source": [
    "<div class=\"alert-warning\"> \n",
    "<b>Комментарий ревьюера 💡</b> \n",
    "\n",
    "Также, можно использовать конструкцию, не переписывая 'df' множнство раз:\n",
    "    \n",
    "    df[['na_sales','eu_sales','jp_sales', 'other_sales']].sum(axis = 1),\n",
    "    \n",
    "где указание на ось axis = 1 означает суммирование по строкам."
   ]
  },
  {
   "cell_type": "markdown",
   "id": "8e831ccc",
   "metadata": {},
   "source": [
    "## Исследовательский анализ данных"
   ]
  },
  {
   "cell_type": "code",
   "execution_count": null,
   "id": "af123277",
   "metadata": {},
   "outputs": [],
   "source": [
    "import seaborn as sns\n",
    "import matplotlib.pyplot as plt"
   ]
  },
  {
   "cell_type": "markdown",
   "id": "c43c0309",
   "metadata": {},
   "source": [
    "**Важны ли данные за все периоды?**"
   ]
  },
  {
   "cell_type": "code",
   "execution_count": null,
   "id": "a626b68e",
   "metadata": {},
   "outputs": [],
   "source": [
    "df['year_of_release'].hist(bins=36)"
   ]
  },
  {
   "cell_type": "markdown",
   "id": "5572d81d",
   "metadata": {},
   "source": [
    "<div class=\"alert-warning\"> \n",
    "<b>Комментарий ревьюера 💡</b> \n",
    "    \n",
    "Хорошо, что ты визуализируешь эти данные! В данном случае график с непрерывной линией был бы предпочитетельнее - поскольку речь идет именно о динамике на временном отрезке (но можно оставить и такую диаграмму)."
   ]
  },
  {
   "cell_type": "markdown",
   "id": "03a0d38d",
   "metadata": {},
   "source": [
    "Начиная с **2014 года по 2016 год - актуальный период**, на который стоит ориентироваться, поскольку видно, что тренды быстро меняются, поэтому чтобы не оказаться в заблуждение и не рассматривать \"мертвые\" тренды, возьмем достаточно короткий период за актуальный."
   ]
  },
  {
   "cell_type": "markdown",
   "id": "ebf0dd78",
   "metadata": {},
   "source": [
    "*Рассмотрим топ-5 платформ по суммарным продажам за все время их существования*"
   ]
  },
  {
   "cell_type": "code",
   "execution_count": null,
   "id": "9441ff15",
   "metadata": {
    "scrolled": true
   },
   "outputs": [],
   "source": [
    "total_sales_top = df.pivot_table(index='platform',values='total_sales',aggfunc={'sum'}).sort_values(['sum'],ascending=False)[:5]\n",
    "total_sales_top"
   ]
  },
  {
   "cell_type": "markdown",
   "id": "9c38d5f6",
   "metadata": {},
   "source": [
    "**За какой характерный срок появляются новые и исчезают старые платформы?**  \n",
    "*Построим распределение продаж каждой платформы по годам*"
   ]
  },
  {
   "cell_type": "code",
   "execution_count": null,
   "id": "19b0a4f0",
   "metadata": {},
   "outputs": [],
   "source": [
    "for platform in total_sales_top.index:\n",
    "    df_info = df.query('platform == @platform').pivot_table(index='year_of_release',values='total_sales',aggfunc={'sum'})\n",
    "    years= [el.year for el in df_info.index.date] # преобразуем индексы в года\n",
    "    sns.barplot(x=years,y=df_info['sum']).set(title=platform,ylabel='total_sum')\n",
    "    plt.show()"
   ]
  },
  {
   "cell_type": "markdown",
   "id": "d1ea302d",
   "metadata": {},
   "source": [
    "*Характерный срок жизни для игровой платформы приблизительно **9-10 лет**, также на примере серии PlayStation - можно увидеть, что новые платформы появляются через **6 лет** после выхода предыдущей.*"
   ]
  },
  {
   "cell_type": "markdown",
   "id": "b6ec9b88",
   "metadata": {},
   "source": [
    "**Отфильтруем данные для работы, так, чтобы игры, соотвествовали актуальному периоду** "
   ]
  },
  {
   "cell_type": "markdown",
   "id": "0429c254",
   "metadata": {},
   "source": [
    "Период жизни платформ около 10 лет, что достаточно динамично для рынка, поэтому для прогноза на предстоящий год, возьмем данные за последние 3 года."
   ]
  },
  {
   "cell_type": "code",
   "execution_count": null,
   "id": "4912660a",
   "metadata": {},
   "outputs": [],
   "source": [
    "df_actually = df.query('year_of_release >= 2014') # таблица, соответств. актуальному периоду"
   ]
  },
  {
   "cell_type": "markdown",
   "id": "a8019591",
   "metadata": {},
   "source": [
    "<div class=\"alert-danger\"> \n",
    "<b>Комментарий ревьюера ❌</b> \n",
    "    \n",
    "Для целей прогнозирования продаж на следующий год даже в традиционных моделях бизнеса редко берут данные более чем за 2-3 года. А в такой динамично меняющейся индустрии, как компьютерные игры и вовсе не стоит брать слишком большой временной интервал - иначе обязательно захватишь уже отжившие тренды, которые зависят не только от выхода новой игровой платформы (просто резкий спад продаж может произойти и за достаточно короткий срок).\n",
    "\n",
    "В данном случае идеальным периодом будет считаться 2014-2016 гг./2015-2016 гг - т.е. период в 2-3 года с сохранением данных за 2016 г.\n",
    "\n",
    "Поменяй это, пожалуйста.</div>"
   ]
  },
  {
   "cell_type": "markdown",
   "id": "c6855c82",
   "metadata": {},
   "source": [
    "**Какие платформы лидируют по продажам, растут или падают?**"
   ]
  },
  {
   "cell_type": "code",
   "execution_count": null,
   "id": "6697db3a",
   "metadata": {},
   "outputs": [],
   "source": [
    "df_actually_groped_pf = (df_actually\n",
    "     .pivot_table(index=['platform','year_of_release'],\n",
    "                        values='total_sales',\n",
    "                        aggfunc='sum')\n",
    "     .reset_index() # избавляемся от мульти-индекса\n",
    "    )"
   ]
  },
  {
   "cell_type": "code",
   "execution_count": null,
   "id": "0500ece3",
   "metadata": {},
   "outputs": [],
   "source": [
    "for name_platform in df_actually['platform'].unique():\n",
    "    pf_years = df_actually_groped_pf.query('platform == @name_platform')\n",
    "    years= [el.year for el in pf_years['year_of_release']]\n",
    "    sns.barplot(y=pf_years['total_sales'],x=years).set(title=name_platform,ylabel='total_sum')\n",
    "    plt.show()"
   ]
  },
  {
   "cell_type": "markdown",
   "id": "a654c61d",
   "metadata": {},
   "source": [
    "<div class=\"alert-success\"> \n",
    "<b>Комментарий ревьюера 👍 </b>\n",
    "\n",
    "Хорошо, что ты пользуешься здесь методом циклов."
   ]
  },
  {
   "cell_type": "markdown",
   "id": "2dcce5f6",
   "metadata": {},
   "source": [
    "**Нам интересны данные, как минимум, об игровых платформах, у которых есть продажи за 2016 год. Среди таких:**\n",
    "- [ ] Wii  \n",
    " *Имеет убывающий тренд, и находится на минимуме своей популярности для разработчиков игр/ Должно быть причина в том, что \n",
    " в 2012 году появляется WiiU, которая является продолжением линейки, к тому же на 2017 год - платформе будет 11 лет, что выбивается из продолжительности жизни платформ*\n",
    "- [ ] X360  \n",
    " *Аналогичная ситуация как у Wii, вышло следующее поколение платформы - Xbox One*\n",
    "- [ ] PS3  \n",
    " *Все точно также как у Wii и X360, комьюнити отдает предпочтение PS4*\n",
    "- [x] PS4  \n",
    " *Платформа достаточно молодая, ей всего 4 года, но уже наблюдается просадка в 2016 году, возможно, что-то произошло с индустрией, либо это связано с тем, что в данных неполный 2017 год*\n",
    "- [ ] 3DS  \n",
    " *Во-первых, есть тренд - убывающий, то есть количество проданных копий игр на этой платформе становится меньше. Во-вторых, по масштабу может показаться, что общий объем денег достаточно высокий на 2016 год, но на самом деле он сопоставим с минимумом для остальных вышеперечисленных исключенных из списка платформ*\n",
    "- [x] PC  \n",
    " *Продолжительность платформы в данном случае не измеримо, так как компьютеры остаются актуальными всегда. Если рассмотреть распределение, то кажется, что продажи игр на PC имеют периодичность, и может быть в 2017 году окажется рост продаж.*\n",
    "- [x] XOne  \n",
    " *Аналогично как у PS4, в обоих случаях должен быть рост*\n",
    "- [x] WiiU  \n",
    " *Наблюдается некоторый отскок проданных копий вниз, но, возможно, это из-за недостатка данных за 2016 год, в таком случае объем копий - достаточный, чтобы назваться популярной платформой на актуальный период*\n",
    "- [ ] PSV  \n",
    " *Продажи явным образом не растут. Либо остаются на том же уровне, либо уменьшаются - во всяком случае по своему объему, они дотстаточно маленькие*  \n",
    " ______________________________________________________________________________________________________\n",
    " *PSP* - платформа, на которой, насколько нам известно из данных, не выпускались игры в 2016 году, и возможно она уже не интересна нам  \n",
    " **Вывод: PS4, XOne, PC, WiiU - самые перспективные платформы на 2017 год** "
   ]
  },
  {
   "cell_type": "markdown",
   "id": "a2f0d1a6",
   "metadata": {},
   "source": [
    "**Рассмотрим диаграмму размаха продаж для платформ**"
   ]
  },
  {
   "cell_type": "code",
   "execution_count": null,
   "id": "a0c6c6c1",
   "metadata": {},
   "outputs": [],
   "source": [
    "plt.figure(figsize=(17,8))\n",
    "sns.boxplot(x='platform',y='total_sales',data=df_actually).set(title='Диаграмма размаха глобальных продаж',ylabel='Продажи')\n",
    "plt.ylim(0,3);"
   ]
  },
  {
   "cell_type": "markdown",
   "id": "2761578d",
   "metadata": {},
   "source": [
    "<div class=\"alert-success\"> \n",
    "<b>Комментарий ревьюера 👍 </b>\n",
    "\n",
    "Отлично, что ты используешь библиотеку seaborn, а не стандартные инструменты matplotlob. Так \"ящики с усами\" получаются намного более репрезентативными."
   ]
  },
  {
   "cell_type": "markdown",
   "id": "dddc7485",
   "metadata": {},
   "source": [
    "PC,PSV, DC, PSP - имееют самую маленькую медиану по продажам среди всех платформ  \n",
    "WiiU, XOne и PS4 - имеют одинаковую медиану, значением около 0,25*10^6 проданных копий  \n",
    "PS4 и X360 - верхняя граница этих платформ, наибольшая в акутальном периоде, за ними по уровню границы будут - XOne и PS3"
   ]
  },
  {
   "cell_type": "markdown",
   "id": "59001b1e",
   "metadata": {},
   "source": [
    "**Влияют ли на продажи отзывы пользователей и критиков?**  \n",
    "Проверим данную гипотезу на примере популярных платформ, которые мы оценивали ранее"
   ]
  },
  {
   "cell_type": "code",
   "execution_count": null,
   "id": "f4128fa4",
   "metadata": {},
   "outputs": [],
   "source": [
    "def corr_info(name):\n",
    "    df_corr = df_actually.query('platform == @name')\n",
    "    critic_corr = df_corr.plot(kind='scatter',x='critic_score',y='total_sales',alpha=0.25,title=name);\n",
    "    user_corr = df_corr.plot(kind='scatter',x='user_score',y='total_sales',alpha=0.25);\n",
    "    print(f'''\n",
    "        Коэффициент корреляции продаж от оценок пользователей - {df_corr['total_sales'].corr(df_corr['user_score'])} для {name}\n",
    "        Коэффициент корреляции продаж от оценок критиков - {df_corr['total_sales'].corr(df_corr['critic_score'])} для {name}\n",
    "    ''',end='\\n------------------------------------------------------------------------------------------------\\n')\n",
    "    \n",
    "    "
   ]
  },
  {
   "cell_type": "code",
   "execution_count": null,
   "id": "6420d130",
   "metadata": {},
   "outputs": [],
   "source": [
    "for name in ['PC','XOne','PS4','WiiU']:\n",
    "    x = corr_info(name)"
   ]
  },
  {
   "cell_type": "markdown",
   "id": "6392802a",
   "metadata": {},
   "source": [
    "* Между оценками пользователей и количеством проданных копий корреляция не существует, кроме как у платформы WiiU, в случае которой можно предположить, что игроки WiiU относятся внимательно к оценкам других игроков\n",
    "* А вот в случае оценков критиков есть некоторая положительная связь, что может обозначать, что мнение критиков слабым образом, но влияет на количество проданных копий среди всех платформ"
   ]
  },
  {
   "cell_type": "markdown",
   "id": "cb6b97a8",
   "metadata": {},
   "source": [
    "<div class=\"alert-success\"> \n",
    "<b>Комментарий ревьюера 👍 </b>\n",
    "\n",
    "Согласен, результаты везде соответствуют примерно одному выводу. Зависимость продаж от оценки критиков слабая. От оценки игроков - практически не наблюдается."
   ]
  },
  {
   "cell_type": "markdown",
   "id": "aff5cb9b",
   "metadata": {},
   "source": [
    "**Какие жанры самые прибыльные? Что об этих жанрах можно сказать? Выделяются ли жанры с высокими и низкими продажами?**"
   ]
  },
  {
   "cell_type": "code",
   "execution_count": null,
   "id": "3c74b67c",
   "metadata": {},
   "outputs": [],
   "source": [
    "df_actually_genre = df_actually.pivot_table(index='genre',values='total_sales',aggfunc=('sum','mean','median','count')).sort_values(by='sum',ascending=False)"
   ]
  },
  {
   "cell_type": "code",
   "execution_count": null,
   "id": "37c7902a",
   "metadata": {},
   "outputs": [],
   "source": [
    "df_actually_genre"
   ]
  },
  {
   "cell_type": "markdown",
   "id": "8f0e56cb",
   "metadata": {},
   "source": [
    "* **Shooter** - самый прибыльный жанр, так как у игр в этом жанре медианное и среднее значение проданных миллион копий - наибольшее\n",
    "* **Sports** и **Action** следующие жанры, разделяющие 2 и 3 место по этим критеряим, соотвественно \n",
    "* **Adventure** - достаточно популярный жанр по числу игр, но имеющий низкие показатели по продажам\n",
    "* **Puzzle и Strategy** самые не популярные и плохо продающиеся жанры игр"
   ]
  },
  {
   "cell_type": "markdown",
   "id": "6b82fbc1",
   "metadata": {},
   "source": [
    "<div class=\"alert-success\"> \n",
    "<b>Комментарий ревьюера 👍 </b>\n",
    "\n",
    "Хорошо, что ты смотришь именно на медианные значения! Это верный подход при поиске наиболее прибыльного жанра."
   ]
  },
  {
   "cell_type": "markdown",
   "id": "81e344c2",
   "metadata": {},
   "source": [
    "# Портрет пользователя каждого региона"
   ]
  },
  {
   "cell_type": "markdown",
   "id": "ad5b3944",
   "metadata": {},
   "source": [
    "### Топ 5 платформ по регионам"
   ]
  },
  {
   "cell_type": "code",
   "execution_count": null,
   "id": "0fa68b0d",
   "metadata": {},
   "outputs": [],
   "source": [
    "regions = ['na_sales','eu_sales','jp_sales']\n",
    "df_region = df_actually.pivot_table(index='platform',values=regions,aggfunc=('sum'))\n",
    "fig=plt.figure(figsize=(15,12))\n",
    "fig.suptitle('Доли продаж платформ по регионам',fontsize=18)\n",
    "i=1;\n",
    "for region in (regions):\n",
    "    ax=fig.add_subplot(1,3,i)\n",
    "    if(region==regions[0]):\n",
    "        name='Северная Америка'\n",
    "    elif(region==regions[1]):\n",
    "        name='Европа'\n",
    "    else: \n",
    "        name='Япония'\n",
    "    df_region[region].plot(kind='pie', autopct='%.0f%%',figsize=(19,7),title=name,ax=ax,ylabel='')\n",
    "    df_region['%_total_sales_'+region] = round(df_region[region]/df_region[region].sum()*100,0)\n",
    "    i+=1"
   ]
  },
  {
   "cell_type": "markdown",
   "id": "32a2bef4",
   "metadata": {},
   "source": [
    "<div class=\"alert-warning\"> \n",
    "<b>Комментарий ревьюера 💡</b> \n",
    "    \n",
    "При составлении портрета пользователей лучше будет построить диаграмы рядом с помощью subplots (не забывая при этом о \"двухуровневых заголовках\" - и у всех трех графиков вместе, и у каждого из трех по отдельности).</div>"
   ]
  },
  {
   "cell_type": "code",
   "execution_count": null,
   "id": "83328dc0",
   "metadata": {},
   "outputs": [],
   "source": [
    "region_top = pd.DataFrame(\n",
    "    {region : df_region.sort_values(by=region,ascending=False).index[:5].array for region in regions}\n",
    ")\n",
    "region_percentage = pd.DataFrame(\n",
    "    {region : df_region.sort_values(by=region,ascending=False)['%_total_sales_'+region][:5] for region in regions}\n",
    ")\n",
    "region_top.index = [i+1 for i in range(5)] # индекс имееет значение в топе для региона\n",
    "region_percentage.fillna(0,inplace=True)\n",
    "region_percentage = region_percentage.T\n",
    "region_percentage"
   ]
  },
  {
   "cell_type": "code",
   "execution_count": null,
   "id": "49aa2a0d",
   "metadata": {},
   "outputs": [],
   "source": [
    "region_top = region_top .T\n",
    "region_top"
   ]
  },
  {
   "cell_type": "code",
   "execution_count": null,
   "id": "77016627",
   "metadata": {},
   "outputs": [],
   "source": [
    "region_info = region_top.join(region_percentage)\n",
    "region_info"
   ]
  },
  {
   "cell_type": "markdown",
   "id": "5ee3075a",
   "metadata": {},
   "source": [
    "**Из конечной таблицы очевидно, что по регионам в период 2007-2016 год, самыми популярными платформами были:**\n",
    "* В Северной Америке - **PS4**\n",
    "* В Европе - **PS4**\n",
    "* В Японии - **3DS**  \n",
    "_______________________________\n",
    "Также стоит пояснить, что нули существующие в таблице - не абсолютные, то есть на самом деле у этих платформ есть какая-то доля в этом регионе, но 0 обозначает, что платформа не входит в топ 5 продажам для этого региона.  \n",
    "* Поэтому инетерсным образом можно заключить, что PSP и 3DS платформы являются особенными для японского рынка, что являются единственными платформами входящими в  топ 5, какого либо региона. \n",
    "* Помимо этого в Японии мало общего в любимых платформах для Европы и Сев. Америки - PS4 и X360 также не входит в их топ покупок.  \n",
    "* В Северной Америке и Европе выбор платформ остается одинаковым, но ранжируется их порядок в этом самом топе, то есть между их платформами в топе - нет различий."
   ]
  },
  {
   "cell_type": "markdown",
   "id": "541fdd21",
   "metadata": {},
   "source": [
    "### Топ  - 5 жанров игр по регионам."
   ]
  },
  {
   "cell_type": "code",
   "execution_count": null,
   "id": "97a2ea83",
   "metadata": {},
   "outputs": [],
   "source": [
    "df_region_genre = df_actually.pivot_table(index='genre',values=regions,aggfunc=('sum'))\n",
    "fig=plt.figure(figsize=(18,16))\n",
    "fig.suptitle('Доли жанров игр по регионам',fontsize=18)\n",
    "i=1;\n",
    "for region in regions:\n",
    "    ax=fig.add_subplot(1,3,i)\n",
    "    if(region==regions[0]):\n",
    "        name='Северная Америка'\n",
    "    elif(region==regions[1]):\n",
    "        name='Европа'\n",
    "    else: \n",
    "        name='Япония'\n",
    "    df_region_genre[region].plot(kind='pie', autopct='%.0f%%',figsize=(20,8),title=name,ax=ax,ylabel='')\n",
    "    i+=1"
   ]
  },
  {
   "cell_type": "code",
   "execution_count": null,
   "id": "06f26845",
   "metadata": {},
   "outputs": [],
   "source": [
    "region_top_genre = pd.DataFrame(\n",
    "    {region : df_region_genre.sort_values(by=region,ascending=False).index[:5].array for region in regions}\n",
    ")\n",
    "region_top_genre.index = [i+1 for i in range(5)]\n",
    "region_top_genre"
   ]
  },
  {
   "cell_type": "markdown",
   "id": "bc0fdab0",
   "metadata": {},
   "source": [
    "В топе популярных жанров по регионам разницы между Северной Америкой и Европой не наблюдается, даже если посмотреть Role-Playing на круговой диаграмме для Европы то он составляет практически такую же долю, как и Racing, с точностью до целых процентов. \n",
    "В Японии кардинально другие предпочтения в жанрах."
   ]
  },
  {
   "cell_type": "markdown",
   "id": "564888db",
   "metadata": {},
   "source": [
    "<div class=\"alert-success\"> \n",
    "<b>Комментарий ревьюера 👍 </b>\n",
    "\n",
    "Приавльный промежуточный вывод. Япониия в этом смысле действительно отличается."
   ]
  },
  {
   "cell_type": "markdown",
   "id": "f1455869",
   "metadata": {},
   "source": [
    "**Влияет ли рейтинг ESRB на продажи в отдельном регионе?**"
   ]
  },
  {
   "cell_type": "code",
   "execution_count": null,
   "id": "d53f65d0",
   "metadata": {},
   "outputs": [],
   "source": [
    "for region in regions:\n",
    "    df_rate = df_actually.pivot_table(index='rating',values=region,aggfunc='sum').plot(kind='line',grid=True,figsize=(6,2))"
   ]
  },
  {
   "cell_type": "markdown",
   "id": "16dfdddb",
   "metadata": {},
   "source": [
    "Сначала рассмотрим Северную Америку и Европу. Можно представить, что по горизонтали с каждой следующей категорией увеличивается возрастной рейтинг, кроме категории ND - которая не описывает, к какой категории относятся проданные копии игр.\n",
    "В таком случае, чем выше возрастной рейтинг, тем меньшее число копий можно ожидать продать.  \n",
    "По Японии очень много ND - должно быть это связано с **CERO** (Computer Entertainment Rating Organization), которая устанавливает возрастной рейтинг в своих категориях. А данные, что нам известны, это игры, созданные и выпущенные сначала на не японской территории. Но даже без этого факта в Японии наблюдается такая же зависимость, как и в Америке с Европой."
   ]
  },
  {
   "cell_type": "markdown",
   "id": "2e3416a7",
   "metadata": {},
   "source": [
    "<div class=\"alert-success\"> \n",
    "<b>Комментарий ревьюера 👍 </b>\n",
    "\n",
    "Верный вывод! Тут пригодилась замена, сделанная в самом начале. Можно сказать, что рейтинг ESRB не влияет на продажи в Японии, поскольку большинство продаж здесь приходится на \"ND\"."
   ]
  },
  {
   "cell_type": "markdown",
   "id": "a6907905",
   "metadata": {},
   "source": [
    "# Проверка гипотез"
   ]
  },
  {
   "cell_type": "markdown",
   "id": "007d1809",
   "metadata": {},
   "source": [
    "**1. Средние пользовательские рейтинги платформ Xbox One и PC одинаковые.**\n",
    "* Нулевая гипотеза: Средний пользовательский рейтинг Xbox One совпадает со среднем пользовательским рейтингом PC\n",
    "* Альтернативная гипотеза: Средний пользовательский рейтинг *НЕ* совпадает со среднем пользовательским рейтингом PC\n",
    "______________________\n",
    "Поскольку гипотеза сформулирована о проверке среднего 2 генеральных совокупностей, то мы будем использовать критерий Стьюдента или так называемый t-тест.  \n",
    "Примем критический уровень статистической значимости - 0.05."
   ]
  },
  {
   "cell_type": "markdown",
   "id": "70476192",
   "metadata": {},
   "source": [
    "<div class=\"alert-success\"> \n",
    "<b>Комментарий ревьюера 👍 </b>\n",
    "\n",
    "Правильное обоснование использования критерия Стьюдента."
   ]
  },
  {
   "cell_type": "code",
   "execution_count": null,
   "id": "1185b9af",
   "metadata": {},
   "outputs": [],
   "source": [
    "from scipy import stats as st\n",
    "import numpy as np\n",
    "alpha=0.05\n",
    "df_xone = df_actually[df_actually['user_score'].notna()].query('platform == \"XOne\"')['user_score']#ОЧИСТИМ ОТ NAN, ТАК КАК Т-ТЕСТ ЧУВСТВИТЕЛЕН \n",
    "df_pc = df_actually[df_actually['user_score'].notna()].query('platform == \"PC\"')['user_score'] #КПРОПУСКОМ\n",
    "results = st.ttest_ind(df_xone,\n",
    "                       df_pc,\n",
    "                      equal_var=False) # у выборок должна быть разная дисперсия\n",
    "print('p-value:',results.pvalue)\n",
    "if (results.pvalue < alpha):\n",
    "    print('Отвергаем нулевую гипотезу')\n",
    "else:\n",
    "    print('Нулевую гипотезу не получилось отвергнуть')\n",
    "\n"
   ]
  },
  {
   "cell_type": "markdown",
   "id": "4ba4ad78",
   "metadata": {},
   "source": [
    "**Вывод:** средние пользовательские оценки у Xbox One и PC - разные."
   ]
  },
  {
   "cell_type": "markdown",
   "id": "0b09709b",
   "metadata": {},
   "source": [
    "2. **Средние пользовательские рейтинги жанров Action (англ. «действие», экшен-игры) и Sports (англ. «спортивные соревнования») разные.**\n",
    "* Нулевая гипотеза: Средние пользовательские рейтинги жанров Action и Sports - равны \n",
    "* Альтернативная гипотеза: Средние пользовательские рейтинги жанров Action и Sports - разные\n",
    "______________________\n",
    "Поскольку гипотеза сформулирована о проверке среднего 2 генеральных совокупностей, то мы будем использовать критерий Стьюдента или так называемый t-тест.  \n",
    "Примем критический уровень статистической значимости - 0.05."
   ]
  },
  {
   "cell_type": "code",
   "execution_count": null,
   "id": "4da1021e",
   "metadata": {},
   "outputs": [],
   "source": [
    "alpha=0.05\n",
    "df_action = df_actually[df_actually['user_score'].notna()].query('genre == \"Action\"')['user_score']#ОЧИСТИМ ОТ NAN, ТАК КАК Т-ТЕСТ ЧУВСТВИТЕЛЕН \n",
    "df_sports = df_actually[df_actually['user_score'].notna()].query('genre == \"Sports\"')['user_score'] #КПРОПУСКОМ\n",
    "results = st.ttest_ind(df_action,\n",
    "                       df_sports,\n",
    "                      equal_var=False) # у выборок должна быть разная дисперсия\n",
    "print('p-value:',results.pvalue)\n",
    "if (results.pvalue < alpha):\n",
    "    print('Отвергаем нулевую гипотезу')\n",
    "else:\n",
    "    print('Нулевую гипотезу не получилось отвергнуть')\n",
    "    "
   ]
  },
  {
   "cell_type": "markdown",
   "id": "80256172",
   "metadata": {},
   "source": [
    "**Вывод:** Да, действительно, средние пользовательских рейтинги этих жанров - разные."
   ]
  },
  {
   "cell_type": "markdown",
   "id": "6d61ab45",
   "metadata": {},
   "source": [
    "# Общий вывод\n",
    "1. В ходе работы были предобработаны данные - удалены пропуски, где это возможно, приведены типы данных, установлены заглушки в категориальных данных.\n",
    "2. Средняя жизнь платформы оказалось 9-10 лет.\n",
    "3. За актуальный период в данных был выбран период с 2014 по 2016 год.\n",
    "4.  PS4, XOne, PC, WiiU - самые перспективные платформы на 2017 год, по потенциальному объекму проданных копий\n",
    "5.  PS4 и XOne - платформы среди акутального периода, у которых самая высокая верхняя граница и медиана по числу проданных копий игр для какой либо игры\n",
    "6. Shooter - самый прибыльный жанр игр\n",
    "7. Пользователи Севереной Америки и Европы не отличаются в выборе платформы и жанров, в отличии от Японии, где абсолютно своя культура игр\n",
    "8. Чем меньше возрастной ценз, тем больше проданных копий окажется у игры"
   ]
  },
  {
   "cell_type": "markdown",
   "id": "8a70ac22",
   "metadata": {},
   "source": [
    "<div class=\"alert-success\"> \n",
    "<b>Комментарий ревьюера 👍 </b>\n",
    "    \n",
    "Объемный, качественно написанный вывод! Всё отражено верно."
   ]
  },
  {
   "cell_type": "markdown",
   "id": "67723f40",
   "metadata": {},
   "source": [
    "<div class=\"alert-success\"> \n",
    "<b>Общий комментарий ревьюера </b> \n",
    "    \n",
    "Отличный проект, тобою проделана большая работа, ты молодец!\n",
    "\n",
    "Хвалю за наличие хороших промежуточных (и общего) выводов, комментариев и рассуждений - твой проект интересно проверять. Также очень хорошее оформление проекта - в этом плане сделано все именно так, как требуется. По коду вопросов в целом нет.\n",
    "\n",
    "Что обязательно стоит изменить: \n",
    "    \n",
    "1. Изменить актуальный период\n",
    "2. Проверить дубликаты, описать причины пропусков.\n",
    "\n",
    "Также, я оставил некоторое количество желтых комментариев. Думаю, они будут полезны и ты также что-либо поменяешь, потому что это сделает твой проект лучше.\n",
    "\n",
    "Буду ждать доработок :)\n",
    "    \n",
    "Удачи!"
   ]
  },
  {
   "cell_type": "markdown",
   "id": "13476a55",
   "metadata": {},
   "source": [
    "<div class=\"alert alert-info\"> <b>Комментарий студента:\n",
    "    </b> Спасибо за предложенные варианты с кодом. Круговые диагрммы также исправил. Проверил дубликаты и описал причины с пропусками. Спасибо за работу!</div>\n",
    "    \n"
   ]
  },
  {
   "cell_type": "markdown",
   "id": "6edaf406",
   "metadata": {},
   "source": [
    "<div class=\"alert-success\"> \n",
    "<b>Комментарий ревьюера 👍 Вторая итерация</b>\n",
    "\n",
    "Все, что я отмечал, исправлено. У тебя получился качественно сделанный проект, а теперь он стал ещё лучше. Принимаю! \n",
    "    \n",
    "Успехов в дальнейшей учебе! "
   ]
  },
  {
   "cell_type": "code",
   "execution_count": null,
   "id": "97236cf5",
   "metadata": {},
   "outputs": [],
   "source": []
  }
 ],
 "metadata": {
  "ExecuteTimeLog": [
   {
    "duration": 80,
    "start_time": "2022-11-08T18:24:09.750Z"
   },
   {
    "duration": 82,
    "start_time": "2022-11-08T18:25:04.244Z"
   },
   {
    "duration": 76,
    "start_time": "2022-11-08T18:33:23.566Z"
   },
   {
    "duration": 90,
    "start_time": "2022-11-08T18:37:16.972Z"
   }
  ],
  "kernelspec": {
   "display_name": "Python 3 (ipykernel)",
   "language": "python",
   "name": "python3"
  },
  "language_info": {
   "codemirror_mode": {
    "name": "ipython",
    "version": 3
   },
   "file_extension": ".py",
   "mimetype": "text/x-python",
   "name": "python",
   "nbconvert_exporter": "python",
   "pygments_lexer": "ipython3",
   "version": "3.9.7"
  },
  "toc": {
   "base_numbering": 1,
   "nav_menu": {},
   "number_sections": true,
   "sideBar": true,
   "skip_h1_title": true,
   "title_cell": "Table of Contents",
   "title_sidebar": "Contents",
   "toc_cell": false,
   "toc_position": {},
   "toc_section_display": true,
   "toc_window_display": false
  }
 },
 "nbformat": 4,
 "nbformat_minor": 5
}
